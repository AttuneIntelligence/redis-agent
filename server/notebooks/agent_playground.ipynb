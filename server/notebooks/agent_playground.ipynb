{
 "cells": [
  {
   "cell_type": "code",
   "execution_count": 1,
   "id": "7203d5fb-795b-4b3d-81b5-51b93b078baf",
   "metadata": {},
   "outputs": [],
   "source": [
    "import sys\n",
    "\n",
    "sys.path.append('/workspace/redis-agent/src')\n",
    "from my_agent import MyAgent\n"
   ]
  },
  {
   "cell_type": "code",
   "execution_count": 2,
   "id": "51f7e7e5-4151-47ef-ab78-ad59afe78d2a",
   "metadata": {},
   "outputs": [],
   "source": [
    "### INITIALIZATION\n",
    "MyAgent = MyAgent()"
   ]
  },
  {
   "cell_type": "code",
   "execution_count": 3,
   "id": "593e2177-4ba5-4670-bef8-6c33481c6228",
   "metadata": {},
   "outputs": [],
   "source": [
    "query_list = [\n",
    "    {\n",
    "        'name': 'search_arXiv',\n",
    "        'arguments': {\n",
    "            'query': 'Non-linear chaotic modeling'\n",
    "        }\n",
    "    },\n",
    "    {\n",
    "        'name': 'search_pubmed',\n",
    "        'arguments': {\n",
    "            'query': 'Cancer interventions with meditation'\n",
    "        }\n",
    "    },\n",
    "    {\n",
    "        'name': 'search_clinical_trials',\n",
    "        'arguments': {\n",
    "            'query': 'dimethyltryptamine'\n",
    "        }\n",
    "    }\n",
    "]"
   ]
  },
  {
   "cell_type": "code",
   "execution_count": 11,
   "id": "a67591e1-6d43-4f21-9490-2cb574ee7ca6",
   "metadata": {},
   "outputs": [],
   "source": [
    "search_results = MyAgent.Toolkit.twitter('Michael Levin cognitive light cone')"
   ]
  },
  {
   "cell_type": "code",
   "execution_count": 12,
   "id": "4a64875c-e18f-4054-9a41-0f39e6edc12e",
   "metadata": {},
   "outputs": [
    {
     "data": {
      "text/plain": [
       "[{'title': 'Michael Levin on Twitter',\n",
       "  'url': 'https://twitter.com/drmichaellevin/status/1205466265222926336',\n",
       "  'description': 'In this conversation. Verified account Protected Tweets @; Suggested users',\n",
       "  'source': ''},\n",
       " {'title': 'Michael Levin on Twitter',\n",
       "  'url': 'https://twitter.com/drmichaellevin/status/1655991748890329157',\n",
       "  'description': 'I understand this position. I like terms to do 2 things: 1) identify what is *essential* about a phenomenon (i.e., unification whenever possible into the fundamental, not contingent, aspects), and 2) facilitate further research.',\n",
       "  'source': ''},\n",
       " {'title': 'Michael Levin⚡️ on Twitter',\n",
       "  'url': 'https://twitter.com/MichaelLevin/status/1676983249090871297',\n",
       "  'description': '\"1/14: I\\'m quite bullish on this L402+LangChainBitcoin launch for many reasons, most of which are outlined in the actual post (check it out below!) But, I did want to call out 2 predictions that excite me most for the #bitcoin, Lightning ⚡️, AI 🤖+ open API convergence… 🧵\"',\n",
       "  'source': ''}]"
      ]
     },
     "execution_count": 12,
     "metadata": {},
     "output_type": "execute_result"
    }
   ],
   "source": [
    "search_results"
   ]
  },
  {
   "cell_type": "code",
   "execution_count": 6,
   "id": "19d841b1-7830-41ac-a625-3d53281aa04a",
   "metadata": {},
   "outputs": [],
   "source": [
    "search_results"
   ]
  },
  {
   "cell_type": "code",
   "execution_count": null,
   "id": "7a4f2203-614c-438f-902c-35f7d48c0060",
   "metadata": {},
   "outputs": [],
   "source": []
  },
  {
   "cell_type": "code",
   "execution_count": null,
   "id": "2c580275-de4c-4086-95dd-63a2db692041",
   "metadata": {},
   "outputs": [],
   "source": []
  },
  {
   "cell_type": "code",
   "execution_count": null,
   "id": "fc62282a-4c47-409a-954e-d1364ebde60c",
   "metadata": {},
   "outputs": [],
   "source": []
  },
  {
   "cell_type": "code",
   "execution_count": null,
   "id": "f3ea0285-a08b-41b8-aba6-190d6e788faf",
   "metadata": {},
   "outputs": [],
   "source": []
  },
  {
   "cell_type": "code",
   "execution_count": null,
   "id": "d72fc3b1-bc60-4a09-8eef-2cd721f27318",
   "metadata": {},
   "outputs": [],
   "source": [
    "[author['name'] for author in search_results['publication_info'].get('authors', '')]"
   ]
  },
  {
   "cell_type": "code",
   "execution_count": null,
   "id": "01b9d7d6-eadd-422f-8ab0-ca4cadeaa8ec",
   "metadata": {},
   "outputs": [],
   "source": []
  },
  {
   "cell_type": "code",
   "execution_count": null,
   "id": "a7bcdfbb-f3e6-44d4-8ff0-1201398c5bbf",
   "metadata": {},
   "outputs": [],
   "source": []
  },
  {
   "cell_type": "code",
   "execution_count": null,
   "id": "314fb6a5-b28d-4a0c-8717-d0c61cb1e3a0",
   "metadata": {},
   "outputs": [],
   "source": []
  },
  {
   "cell_type": "code",
   "execution_count": null,
   "id": "0f417b34-dff2-4bd8-b3a8-4e79d8ec3a12",
   "metadata": {},
   "outputs": [],
   "source": []
  },
  {
   "cell_type": "code",
   "execution_count": null,
   "id": "251f196e-f08f-4ae6-b39d-b37f78c830f2",
   "metadata": {},
   "outputs": [],
   "source": []
  },
  {
   "cell_type": "code",
   "execution_count": 7,
   "id": "202b49e1-60bf-450b-ae6e-eeb9a111e352",
   "metadata": {},
   "outputs": [
    {
     "data": {
      "text/plain": [
       "['MP Levine']"
      ]
     },
     "execution_count": 7,
     "metadata": {},
     "output_type": "execute_result"
    }
   ],
   "source": [
    "[author['name'] for author in search_results['publication_info'].get('authors', '')]"
   ]
  },
  {
   "cell_type": "code",
   "execution_count": null,
   "id": "a605df8a-b713-4b5c-8008-4ce4340bb6ab",
   "metadata": {},
   "outputs": [],
   "source": []
  },
  {
   "cell_type": "code",
   "execution_count": 11,
   "id": "d729886a-4cad-41ba-b4e8-ad18380dd5d5",
   "metadata": {},
   "outputs": [
    {
     "data": {
      "text/plain": [
       "[{'name': 'F. Alex Feltus',\n",
       "  'link': 'https://scholar.google.com/citations?user=8ZgERJIAAAAJ&hl=en&oi=ao',\n",
       "  'serpapi_link': 'https://serpapi.com/search.json?author_id=8ZgERJIAAAAJ&engine=google_scholar_author&hl=en',\n",
       "  'author_id': '8ZgERJIAAAAJ',\n",
       "  'affiliations': 'Professor of Genetics & Biochemistry, Clemson University',\n",
       "  'email': 'Verified email at clemson.edu',\n",
       "  'cited_by': 11417}]"
      ]
     },
     "execution_count": 11,
     "metadata": {},
     "output_type": "execute_result"
    }
   ],
   "source": [
    "search_results['profiles']['authors']"
   ]
  },
  {
   "cell_type": "code",
   "execution_count": null,
   "id": "abf91435-73cf-4e67-8eeb-7aa420f14571",
   "metadata": {},
   "outputs": [],
   "source": []
  },
  {
   "cell_type": "code",
   "execution_count": null,
   "id": "d19f99d9-9144-40ae-801e-65b950c6d543",
   "metadata": {},
   "outputs": [],
   "source": []
  },
  {
   "cell_type": "code",
   "execution_count": null,
   "id": "59036d11-7f35-4a76-8a83-1fa19782f7a5",
   "metadata": {},
   "outputs": [],
   "source": []
  },
  {
   "cell_type": "code",
   "execution_count": null,
   "id": "d37e82e5-1b6a-4a83-ab49-1105d0769314",
   "metadata": {},
   "outputs": [],
   "source": []
  },
  {
   "cell_type": "code",
   "execution_count": 7,
   "id": "b6c8f88f-4fdd-4f4d-9eaf-f74582d95ac1",
   "metadata": {},
   "outputs": [],
   "source": [
    "# import pypatent\n",
    "\n",
    "# conn = pypatent.WebConnection(use_selenium=False)\n",
    "# res = pypatent.Search('orgone', results_limit=5)\n",
    "# print(res)\n",
    "\n",
    "# patents = pypatent.Search(ttl='orgone generator', results_limit=3).as_list()"
   ]
  },
  {
   "cell_type": "code",
   "execution_count": 8,
   "id": "35583d8b-7bd6-4fd2-a069-d12927e713c9",
   "metadata": {},
   "outputs": [],
   "source": [
    "# from rq import Queue, get_current_job\n",
    "# from rq.registry import StartedJobRegistry\n",
    "# from rq import Queue, Worker\n",
    "# import redis\n",
    "\n",
    "# redis_conn = redis.Redis(host='redis', port=6379)\n",
    "# # get_current_job(connection=redis_conn)\n",
    "# registry = StartedJobRegistry('default', connection=redis_conn)\n",
    "# expired_job_ids = registry.get_expired_job_ids() \n",
    "# running_job_ids = registry.get_job_ids()  # Jobs which are exactly running. \n",
    "# workers = Worker.all(connection=redis_conn)\n",
    "# queued_job_ids = registry.get_queue().job_ids"
   ]
  },
  {
   "cell_type": "code",
   "execution_count": null,
   "id": "934cf555-da48-466d-bd65-32703d461100",
   "metadata": {},
   "outputs": [],
   "source": [
    "# import requests\n",
    "\n",
    "# def search_uspto(query,\n",
    "#                  n_results=3):\n",
    "#     base_url = 'https://developer.uspto.gov/ibd-api/v1/application/publications'\n",
    "#     params = {\n",
    "#         'searchText': text_query,\n",
    "#         'start': 0,\n",
    "#         'rows': n_results\n",
    "#     }\n",
    "#     response = requests.get(base_url, params=params)\n",
    "#     if response.status_code == 200:\n",
    "#         query_response = response.json()['results']\n",
    "#         patent_results = []\n",
    "#         for i in query_response:\n",
    "#             patent_results.append({\n",
    "#                 'title': i['inventionTitle'],\n",
    "#                 'description': i['abstractText'],\n",
    "#                 'inventors': i['inventorNameArrayText'],\n",
    "#                 'filing_date': i['filingDate'],\n",
    "#                 'patent_type': i['inventionSubjectMatterCategory'],\n",
    "#                 'application_number': i['patentApplicationNumber']\n",
    "#             })\n",
    "#         return patent_results\n",
    "#     else:\n",
    "#         response.raise_for_status()"
   ]
  }
 ],
 "metadata": {
  "kernelspec": {
   "display_name": "Python 3 (ipykernel)",
   "language": "python",
   "name": "python3"
  },
  "language_info": {
   "codemirror_mode": {
    "name": "ipython",
    "version": 3
   },
   "file_extension": ".py",
   "mimetype": "text/x-python",
   "name": "python",
   "nbconvert_exporter": "python",
   "pygments_lexer": "ipython3",
   "version": "3.12.4"
  }
 },
 "nbformat": 4,
 "nbformat_minor": 5
}
