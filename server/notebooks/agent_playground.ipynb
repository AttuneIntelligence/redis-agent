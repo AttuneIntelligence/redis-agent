{
 "cells": [
  {
   "cell_type": "code",
   "execution_count": 4,
   "id": "7203d5fb-795b-4b3d-81b5-51b93b078baf",
   "metadata": {},
   "outputs": [],
   "source": [
    "import sys\n",
    "import chromadb\n",
    "\n",
    "sys.path.append('/workspace/redis-agent/src')\n",
    "from my_agent import MyAgent"
   ]
  },
  {
   "cell_type": "code",
   "execution_count": 5,
   "id": "51f7e7e5-4151-47ef-ab78-ad59afe78d2a",
   "metadata": {},
   "outputs": [
    {
     "name": "stdout",
     "output_type": "stream",
     "text": [
      "==> Toolkit vector db created in 0.6 seconds.\n"
     ]
    }
   ],
   "source": [
    "### INITIALIZATION\n",
    "MyAgent = MyAgent()"
   ]
  },
  {
   "cell_type": "code",
   "execution_count": 6,
   "id": "8ffb6e2c-64f2-4601-b2cb-97c2527a4a4c",
   "metadata": {},
   "outputs": [
    {
     "name": "stdout",
     "output_type": "stream",
     "text": [
      "==> Executing agent...\n"
     ]
    }
   ],
   "source": [
    "#######################\n",
    "### AGENT EXECUTION ###\n",
    "#######################\n",
    "\n",
    "input_json = {\n",
    "    \"user_id\": \"c93faa88-23ec-4fac-baa1-a3a583b2f2c4\",\n",
    "    \"display_name\": \"Reed\",\n",
    "    \"question\": \"What is the most common gene mutation in kidney cancer, and who are the people researching those genes?\"\n",
    "}\n",
    "response = MyAgent.notebook_execute(input_json)"
   ]
  },
  {
   "cell_type": "code",
   "execution_count": 7,
   "id": "5299c942-d0b0-41a3-9b30-211430f48914",
   "metadata": {},
   "outputs": [],
   "source": [
    "# metadata"
   ]
  },
  {
   "cell_type": "code",
   "execution_count": 8,
   "id": "aa9ee41e-454b-4e4a-9923-abf9f245b636",
   "metadata": {},
   "outputs": [
    {
     "data": {
      "text/plain": [
       "{'step_1': {'description': 'Identify the most common gene mutation in kidney cancer and gather information on researchers involved in studying these genes.',\n",
       "  'actions': [{'function': 'search_pubmed',\n",
       "    'query': 'most common gene mutation in kidney cancer'},\n",
       "   {'function': 'search_pubmed',\n",
       "    'query': 'researchers studying gene mutations in kidney cancer'}]},\n",
       " 'step_2': {'description': 'Research the academic profiles and contributions of the identified researchers from step 1.',\n",
       "  'actions': [{'function': 'search_academic_scholars',\n",
       "    'query': '<name of identified researcher 1> kidney cancer gene mutation'},\n",
       "   {'function': 'search_academic_scholars',\n",
       "    'query': '<name of identified researcher 2> kidney cancer genetics'},\n",
       "   {'function': 'search_academic_scholars',\n",
       "    'query': '<name of identified researcher 3> kidney cancer molecular biology'}]},\n",
       " 'step_3': {'description': 'Compile the retrieved information into a final answer.',\n",
       "  'actions': [{'function': 'return_answer'}]}}"
      ]
     },
     "execution_count": 8,
     "metadata": {},
     "output_type": "execute_result"
    }
   ],
   "source": [
    "response"
   ]
  },
  {
   "cell_type": "code",
   "execution_count": null,
   "id": "36177c30-dae1-4209-b644-5b11824aa251",
   "metadata": {},
   "outputs": [],
   "source": []
  },
  {
   "cell_type": "code",
   "execution_count": null,
   "id": "6f7bd417-d711-42ef-b496-8f835b95e8a5",
   "metadata": {},
   "outputs": [],
   "source": []
  },
  {
   "cell_type": "code",
   "execution_count": null,
   "id": "814fed75-4e90-40a4-9ef4-92eb591f04ca",
   "metadata": {},
   "outputs": [],
   "source": []
  },
  {
   "cell_type": "code",
   "execution_count": null,
   "id": "d63af2b5-0e36-4c3a-83d5-94f58c05b0eb",
   "metadata": {},
   "outputs": [],
   "source": []
  },
  {
   "cell_type": "code",
   "execution_count": null,
   "id": "2b56bd59-64e9-4885-b458-9e29b8339721",
   "metadata": {},
   "outputs": [],
   "source": []
  },
  {
   "cell_type": "code",
   "execution_count": null,
   "id": "8fbcfe72-995f-4907-9d10-3b28741edd27",
   "metadata": {},
   "outputs": [],
   "source": []
  },
  {
   "cell_type": "code",
   "execution_count": null,
   "id": "a36e9490-7ec6-4d91-9b03-2725751ea9c3",
   "metadata": {},
   "outputs": [],
   "source": []
  }
 ],
 "metadata": {
  "kernelspec": {
   "display_name": "Python 3 (ipykernel)",
   "language": "python",
   "name": "python3"
  },
  "language_info": {
   "codemirror_mode": {
    "name": "ipython",
    "version": 3
   },
   "file_extension": ".py",
   "mimetype": "text/x-python",
   "name": "python",
   "nbconvert_exporter": "python",
   "pygments_lexer": "ipython3",
   "version": "3.12.4"
  }
 },
 "nbformat": 4,
 "nbformat_minor": 5
}
