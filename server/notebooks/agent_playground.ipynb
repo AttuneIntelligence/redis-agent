{
 "cells": [
  {
   "cell_type": "code",
   "execution_count": 1,
   "id": "7203d5fb-795b-4b3d-81b5-51b93b078baf",
   "metadata": {},
   "outputs": [],
   "source": [
    "import sys\n",
    "import chromadb\n",
    "\n",
    "from chromadb.utils.embedding_functions import OpenAIEmbeddingFunction\n",
    "\n",
    "sys.path.append('/workspace/redis-agent/src')\n",
    "from my_agent import MyAgent\n",
    "\n"
   ]
  },
  {
   "cell_type": "code",
   "execution_count": 2,
   "id": "51f7e7e5-4151-47ef-ab78-ad59afe78d2a",
   "metadata": {},
   "outputs": [
    {
     "name": "stdout",
     "output_type": "stream",
     "text": [
      "==> Toolkit vector db created in 0.6 seconds.\n"
     ]
    }
   ],
   "source": [
    "### INITIALIZATION\n",
    "MyAgent = MyAgent()"
   ]
  },
  {
   "cell_type": "code",
   "execution_count": 6,
   "id": "8ffb6e2c-64f2-4601-b2cb-97c2527a4a4c",
   "metadata": {},
   "outputs": [
    {
     "name": "stdout",
     "output_type": "stream",
     "text": [
      "==> Agent executed in 0 steps for $0.021 (1.8 seconds).\n"
     ]
    }
   ],
   "source": [
    "question = \"What is your name??\"\n",
    "agent_response, metadata = MyAgent.invoke_gpt_agent(question)\n"
   ]
  },
  {
   "cell_type": "code",
   "execution_count": 7,
   "id": "edea7c74-c363-4bc2-ab23-ab34c3aea012",
   "metadata": {},
   "outputs": [
    {
     "data": {
      "text/plain": [
       "{'time': 1.8,\n",
       " 'cost': 0.020605000000000002,\n",
       " 'n_steps': 0,\n",
       " 'functions_executed': [{'function': 'return_answer'}]}"
      ]
     },
     "execution_count": 7,
     "metadata": {},
     "output_type": "execute_result"
    }
   ],
   "source": [
    "metadata"
   ]
  },
  {
   "cell_type": "code",
   "execution_count": 8,
   "id": "020ea7b9-3acf-43dc-8e23-3d2880774881",
   "metadata": {},
   "outputs": [
    {
     "data": {
      "text/plain": [
       "[]"
      ]
     },
     "execution_count": 8,
     "metadata": {},
     "output_type": "execute_result"
    }
   ],
   "source": [
    "agent_response"
   ]
  },
  {
   "cell_type": "code",
   "execution_count": null,
   "id": "5311439c-271a-43c7-a7a2-c99e1d0c5051",
   "metadata": {},
   "outputs": [],
   "source": []
  },
  {
   "cell_type": "code",
   "execution_count": null,
   "id": "cf3b433b-9906-45f2-a8e5-7e5ac0749513",
   "metadata": {},
   "outputs": [],
   "source": []
  },
  {
   "cell_type": "code",
   "execution_count": null,
   "id": "468b41b1-506f-46e3-aa8e-13445312cf07",
   "metadata": {},
   "outputs": [],
   "source": []
  },
  {
   "cell_type": "code",
   "execution_count": null,
   "id": "69c1b2a8-0db9-40e3-ab58-9351f8e4608e",
   "metadata": {},
   "outputs": [],
   "source": []
  },
  {
   "cell_type": "code",
   "execution_count": null,
   "id": "7072b631-0985-4ea8-9805-0e29694f238e",
   "metadata": {},
   "outputs": [],
   "source": []
  },
  {
   "cell_type": "code",
   "execution_count": null,
   "id": "8596a2e7-2363-4816-bf1e-0c862ad303cc",
   "metadata": {},
   "outputs": [],
   "source": []
  },
  {
   "cell_type": "code",
   "execution_count": null,
   "id": "d63af2b5-0e36-4c3a-83d5-94f58c05b0eb",
   "metadata": {},
   "outputs": [],
   "source": []
  },
  {
   "cell_type": "code",
   "execution_count": null,
   "id": "2b56bd59-64e9-4885-b458-9e29b8339721",
   "metadata": {},
   "outputs": [],
   "source": []
  },
  {
   "cell_type": "code",
   "execution_count": null,
   "id": "8fbcfe72-995f-4907-9d10-3b28741edd27",
   "metadata": {},
   "outputs": [],
   "source": []
  },
  {
   "cell_type": "code",
   "execution_count": null,
   "id": "d37e82e5-1b6a-4a83-ab49-1105d0769314",
   "metadata": {},
   "outputs": [],
   "source": []
  }
 ],
 "metadata": {
  "kernelspec": {
   "display_name": "Python 3 (ipykernel)",
   "language": "python",
   "name": "python3"
  },
  "language_info": {
   "codemirror_mode": {
    "name": "ipython",
    "version": 3
   },
   "file_extension": ".py",
   "mimetype": "text/x-python",
   "name": "python",
   "nbconvert_exporter": "python",
   "pygments_lexer": "ipython3",
   "version": "3.12.4"
  }
 },
 "nbformat": 4,
 "nbformat_minor": 5
}
