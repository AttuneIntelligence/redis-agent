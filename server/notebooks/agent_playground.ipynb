{
 "cells": [
  {
   "cell_type": "code",
   "execution_count": 1,
   "id": "7203d5fb-795b-4b3d-81b5-51b93b078baf",
   "metadata": {},
   "outputs": [],
   "source": [
    "import sys\n",
    "import chromadb\n",
    "from chromadb.utils.embedding_functions import OpenAIEmbeddingFunction\n",
    "\n",
    "sys.path.append('/workspace/redis-agent/src')\n",
    "from my_agent import MyAgent\n",
    "from bin.utilities import *\n"
   ]
  },
  {
   "cell_type": "code",
   "execution_count": 2,
   "id": "51f7e7e5-4151-47ef-ab78-ad59afe78d2a",
   "metadata": {},
   "outputs": [],
   "source": [
    "### INITIALIZATION\n",
    "MyAgent = MyAgent()"
   ]
  },
  {
   "cell_type": "code",
   "execution_count": 3,
   "id": "3b1517ed-f354-406d-bae4-6cd3d566b850",
   "metadata": {},
   "outputs": [],
   "source": [
    "import chromadb\n",
    "from chromadb.utils.embedding_functions import OpenAIEmbeddingFunction\n",
    "import os \n",
    "\n",
    "question = \"What is bioinformatics\"\n",
    "\n",
    "def create_toolkit_db():\n",
    "    timer = Timer()\n",
    "    ### DEFINE THE DATABASE\n",
    "    chroma_client = chromadb.EphemeralClient()\n",
    "    embedding_function = OpenAIEmbeddingFunction(api_key=os.environ.get('OPENAI_API_KEY'), model_name=\"text-embedding-3-small\")\n",
    "    db = chroma_client.create_collection(name='toolset_vectorstore', embedding_function=embedding_function)\n",
    "    db.add(\n",
    "        documents=[tool['description'] for tool in MyAgent.Toolkit.tool_definitions],\n",
    "        ids=[tool['name'] for tool in MyAgent.Toolkit.tool_definitions]\n",
    "    )\n",
    "    time_taken = timer.get_elapsed_time()\n",
    "    print(f'==> Toolkit vector retrieval created in {time_taken} seconds.')\n",
    "    return db\n",
    "     "
   ]
  },
  {
   "cell_type": "code",
   "execution_count": 4,
   "id": "c4d343dd-ea16-4498-9124-b2d92b05b602",
   "metadata": {},
   "outputs": [
    {
     "name": "stdout",
     "output_type": "stream",
     "text": [
      "==> Toolkit vector retrieval created in 0.7 seconds.\n"
     ]
    }
   ],
   "source": [
    "db = create_toolkit_db()"
   ]
  },
  {
   "cell_type": "code",
   "execution_count": 18,
   "id": "e03828ba-1b39-4ac9-92dc-1840fb9cb177",
   "metadata": {},
   "outputs": [],
   "source": [
    "claim_query_result = db.query(query_texts=\"what is cancer\", include=['documents', 'distances'], n_results=3)['ids'][0]\n",
    "\n"
   ]
  },
  {
   "cell_type": "code",
   "execution_count": 19,
   "id": "3d2e2cb6-0e32-4764-a3e5-9de8150f2699",
   "metadata": {},
   "outputs": [
    {
     "data": {
      "text/plain": [
       "['search_pubmed', 'search_arXiv', 'search_clinical_trials']"
      ]
     },
     "execution_count": 19,
     "metadata": {},
     "output_type": "execute_result"
    }
   ],
   "source": [
    "claim_query_result"
   ]
  },
  {
   "cell_type": "code",
   "execution_count": null,
   "id": "bb64256e-310c-4d86-b5a7-dc83329452cf",
   "metadata": {},
   "outputs": [],
   "source": []
  },
  {
   "cell_type": "code",
   "execution_count": null,
   "id": "b6aef532-4eed-4e9c-b622-ac1642e94093",
   "metadata": {},
   "outputs": [],
   "source": []
  },
  {
   "cell_type": "code",
   "execution_count": null,
   "id": "d6aa57e7-5308-4c0f-82ac-2932f8fca29a",
   "metadata": {},
   "outputs": [],
   "source": [
    "for e, tool in enumerate(MyAgent.Toolkit.tool_definitions):\n",
    "    ids=article_df.vector_id.tolist(),\n",
    "    embeddings=article_df.content_vector.tolist(),"
   ]
  },
  {
   "cell_type": "code",
   "execution_count": 4,
   "id": "a6319718-6ca4-4230-81ab-f65d37e052e1",
   "metadata": {},
   "outputs": [
    {
     "data": {
      "text/plain": [
       "[{'name': 'search_pubmed',\n",
       "  'description': 'This function will search for peer-reviewed clinical and biomedical research literature from Pubmed.',\n",
       "  'parameters': {'type': 'object',\n",
       "   'properties': {'query': {'type': 'string',\n",
       "     'description': 'descriptive search query related to the biomedical sciences'}},\n",
       "   'required': ['query']}},\n",
       " {'name': 'search_arXiv',\n",
       "  'description': 'This function will search for open-access articles in the fields of Physics, Mathematics, Computer Science, Quantitative Biology, Quantitative Finance, and Statistics.',\n",
       "  'parameters': {'type': 'object',\n",
       "   'properties': {'query': {'type': 'string',\n",
       "     'description': 'descriptive search query related to the physical or computational sciences'}},\n",
       "   'required': ['query']}},\n",
       " {'name': 'search_clinical_trials',\n",
       "  'description': 'This function will search ClinicalTrials.gov to find current clinical trials being conducted or proposed.',\n",
       "  'parameters': {'type': 'object',\n",
       "   'properties': {'query': {'type': 'string',\n",
       "     'description': 'descriptive search query for a clinical trial'}},\n",
       "   'required': ['query']}},\n",
       " {'name': 'search_us_patent_office',\n",
       "  'description': 'This function will search the US Patent & Trademark Office for granted patents.',\n",
       "  'parameters': {'type': 'object',\n",
       "   'properties': {'query': {'type': 'string',\n",
       "     'description': 'descriptive search query for a filed or granted patent'}},\n",
       "   'required': ['query']}},\n",
       " {'name': 'search_internet',\n",
       "  'description': 'This function will search the internet for content URLs.',\n",
       "  'parameters': {'type': 'object',\n",
       "   'properties': {'query': {'type': 'string',\n",
       "     'description': 'descriptive google search query'}},\n",
       "   'required': ['query']}},\n",
       " {'name': 'search_neurips',\n",
       "  'description': 'This function will search across the Neurips computer science journal proceedings.',\n",
       "  'parameters': {'type': 'object',\n",
       "   'properties': {'query': {'type': 'string',\n",
       "     'description': 'descriptive search query for neurips journal proceeding articles'}},\n",
       "   'required': ['query']}},\n",
       " {'name': 'search_github',\n",
       "  'description': 'This function will Github for code repositories and users.',\n",
       "  'parameters': {'type': 'object',\n",
       "   'properties': {'query': {'type': 'string',\n",
       "     'description': 'descriptive search query for Github'}},\n",
       "   'required': ['query']}},\n",
       " {'name': 'search_academic_scholars',\n",
       "  'description': 'This function will search for the google scholar academic profile for researchers.',\n",
       "  'parameters': {'type': 'object',\n",
       "   'properties': {'query': {'type': 'string',\n",
       "     'description': 'the name of a research or academic scientist'}},\n",
       "   'required': ['query']}}]"
      ]
     },
     "execution_count": 4,
     "metadata": {},
     "output_type": "execute_result"
    }
   ],
   "source": [
    "MyAgent.Toolkit.tool_definitions"
   ]
  },
  {
   "cell_type": "code",
   "execution_count": null,
   "id": "20f6137f-296f-49cf-8037-35b209a0c5b2",
   "metadata": {},
   "outputs": [],
   "source": []
  },
  {
   "cell_type": "code",
   "execution_count": null,
   "id": "070254fc-5cdb-4f9d-a7cb-b26a002a81c6",
   "metadata": {},
   "outputs": [],
   "source": []
  },
  {
   "cell_type": "code",
   "execution_count": null,
   "id": "53f63839-590d-4b98-9496-6f90906eb618",
   "metadata": {},
   "outputs": [],
   "source": []
  },
  {
   "cell_type": "code",
   "execution_count": null,
   "id": "74abf5a1-645f-49a8-a308-67da58ff046e",
   "metadata": {},
   "outputs": [],
   "source": []
  },
  {
   "cell_type": "code",
   "execution_count": null,
   "id": "209b529c-825d-401d-af26-ccc71c75cbb5",
   "metadata": {},
   "outputs": [],
   "source": []
  },
  {
   "cell_type": "code",
   "execution_count": null,
   "id": "92b35c9f-18b1-41d1-9338-85550f1d0575",
   "metadata": {},
   "outputs": [],
   "source": []
  },
  {
   "cell_type": "code",
   "execution_count": null,
   "id": "5311439c-271a-43c7-a7a2-c99e1d0c5051",
   "metadata": {},
   "outputs": [],
   "source": []
  },
  {
   "cell_type": "code",
   "execution_count": null,
   "id": "cf3b433b-9906-45f2-a8e5-7e5ac0749513",
   "metadata": {},
   "outputs": [],
   "source": []
  },
  {
   "cell_type": "code",
   "execution_count": null,
   "id": "468b41b1-506f-46e3-aa8e-13445312cf07",
   "metadata": {},
   "outputs": [],
   "source": []
  },
  {
   "cell_type": "code",
   "execution_count": null,
   "id": "69c1b2a8-0db9-40e3-ab58-9351f8e4608e",
   "metadata": {},
   "outputs": [],
   "source": []
  },
  {
   "cell_type": "code",
   "execution_count": null,
   "id": "7072b631-0985-4ea8-9805-0e29694f238e",
   "metadata": {},
   "outputs": [],
   "source": []
  },
  {
   "cell_type": "code",
   "execution_count": null,
   "id": "630e7605-86a0-4332-9cda-5c0d1eb16aa4",
   "metadata": {},
   "outputs": [],
   "source": [
    "question = \"What is bioinformatics\"\n",
    "import chromadb\n",
    "\n",
    "# ### LIMIT TOOL OPTIONS TO A SUBSET\n",
    "# def tool_retriever(question):\n",
    "\n",
    "#     ### CREATE TOOL VECTORSTORE\n",
    "#     tool_docs = [Document(page_content=t.description, metadata={\"index\": i, \"tool\": t}) for i, t in enumerate(available_tools)]\n",
    "#     vector_store = FAISS.from_documents(tool_docs, self.engine.embedding_llm)\n",
    "#     tool_retriever = vector_store.as_retriever(search_kwargs={\"k\": self.engine.n_tools})\n",
    "\n",
    "#     ### QUERY TOOL VECTORSTORE WITH HISTORY CONTEXT\n",
    "#     formatted_memory = \"\"\n",
    "#     for message in self.engine.memory_messages[-2:]:\n",
    "#         if isinstance(message, HumanMessage):\n",
    "#             formatted_memory += f\"{self.engine.json_recieved['user']['fname']}: {message.content.strip()}\\n\"\n",
    "#         elif isinstance(message, AIMessage):\n",
    "#             formatted_memory += f\"{self.engine.ai_name}: {message.content.strip()}\\n\"\n",
    "#     tool_query_string = f\"{formatted_memory}\\n{self.engine.json_recieved['message']}\"\n",
    "#     chosen_tools = tool_retriever.get_relevant_documents(tool_query_string)\n",
    "#     return [available_tools[d.metadata[\"index\"]] for d in chosen_tools]"
   ]
  },
  {
   "cell_type": "code",
   "execution_count": null,
   "id": "83309bc8-a943-43e1-ac87-b1814e126d85",
   "metadata": {},
   "outputs": [],
   "source": []
  },
  {
   "cell_type": "code",
   "execution_count": 3,
   "id": "593e2177-4ba5-4670-bef8-6c33481c6228",
   "metadata": {},
   "outputs": [],
   "source": [
    "query_list = [\n",
    "    {\n",
    "        'name': 'search_arXiv',\n",
    "        'arguments': {\n",
    "            'query': 'Non-linear chaotic modeling'\n",
    "        }\n",
    "    },\n",
    "    {\n",
    "        'name': 'search_pubmed',\n",
    "        'arguments': {\n",
    "            'query': 'Cancer interventions with meditation'\n",
    "        }\n",
    "    },\n",
    "    {\n",
    "        'name': 'search_clinical_trials',\n",
    "        'arguments': {\n",
    "            'query': 'dimethyltryptamine'\n",
    "        }\n",
    "    },\n",
    "    {\n",
    "        'name': 'search_us_patent_office',\n",
    "        'arguments': {\n",
    "            'query': 'orgone generator'\n",
    "        }\n",
    "    },\n",
    "    {\n",
    "        'name': 'search_academic_scholars',\n",
    "        'arguments': {\n",
    "            'query': 'Michael Levin'\n",
    "        }\n",
    "    }\n",
    "]"
   ]
  },
  {
   "cell_type": "code",
   "execution_count": 4,
   "id": "a7651079-642b-4b64-89ab-1128b13b7d53",
   "metadata": {},
   "outputs": [
    {
     "name": "stdout",
     "output_type": "stream",
     "text": [
      "Agent execution complete in 2.1 seconds.\n"
     ]
    }
   ],
   "source": [
    "response = MyAgent.Agent_Queue.queue_function_calls(query_list)\n"
   ]
  },
  {
   "cell_type": "code",
   "execution_count": 5,
   "id": "79cdc207-2626-4173-8e65-95def52bd242",
   "metadata": {},
   "outputs": [
    {
     "data": {
      "text/plain": [
       "[{'title': 'GroupMamba: Parameter-Efficient and Accurate Group Visual State Space Model',\n",
       "  'description': 'Recent advancements in state-space models (SSMs) have showcased effective performance in modeling long-range dependencies with subquadratic complexity. However, pure SSM-based models still face challenges related to stability and achieving optimal performance on computer vision tasks. Our paper addresses the challenges of scaling SSM-based models for computer vision, particularly the instability and inefficiency of large model sizes. To address this, we introduce a Modulated Group Mamba layer which divides the input channels into four groups and applies our proposed SSM-based efficient Visual Single Selective Scanning (VSSS) block independently to each group, with each VSSS block scanning in one of the four spatial directions. The Modulated Group Mamba layer also wraps the four VSSS blocks into a channel modulation operator to improve cross-channel communication. Furthermore, we introduce a distillation-based training objective to stabilize the training of large models, leading to consistent performance gains. Our comprehensive experiments demonstrate the merits of the proposed contributions, leading to superior performance over existing methods for image classification on ImageNet-1K, object detection, instance segmentation on MS-COCO, and semantic segmentation on ADE20K. Our tiny variant with 23M parameters achieves state-of-the-art performance with a classification top-1 accuracy of 83.3% on ImageNet-1K, while being 26% efficient in terms of parameters, compared to the best existing Mamba design of same model size. Our code and models are available at: https://github.com/Amshaker/GroupMamba.',\n",
       "  'publication_date': '2024-07-18',\n",
       "  'authors': ['Abdelrahman Shaker',\n",
       "   'Syed Talal Wasim',\n",
       "   'Salman Khan',\n",
       "   'Juergen Gall',\n",
       "   'Fahad Shahbaz Khan'],\n",
       "  'link': 'http://arxiv.org/pdf/2407.13772v1'},\n",
       " {'title': 'Training-Free Model Merging for Multi-target Domain Adaptation',\n",
       "  'description': 'In this paper, we study multi-target domain adaptation of scene understanding models. While previous methods achieved commendable results through inter-domain consistency losses, they often assumed unrealistic simultaneous access to images from all target domains, overlooking constraints such as data transfer bandwidth limitations and data privacy concerns. Given these challenges, we pose the question: How to merge models adapted independently on distinct domains while bypassing the need for direct access to training data? Our solution to this problem involves two components, merging model parameters and merging model buffers (i.e., normalization layer statistics). For merging model parameters, empirical analyses of mode connectivity surprisingly reveal that linear merging suffices when employing the same pretrained backbone weights for adapting separate models. For merging model buffers, we model the real-world distribution with a Gaussian prior and estimate new statistics from the buffers of separately trained models. Our method is simple yet effective, achieving comparable performance with data combination training baselines, while eliminating the need for accessing training data. Project page: https://air-discover.github.io/ModelMerging',\n",
       "  'publication_date': '2024-07-18',\n",
       "  'authors': ['Wenyi Li',\n",
       "   'Huan-ang Gao',\n",
       "   'Mingju Gao',\n",
       "   'Beiwen Tian',\n",
       "   'Rong Zhi',\n",
       "   'Hao Zhao'],\n",
       "  'link': 'http://arxiv.org/pdf/2407.13771v1'},\n",
       " {'title': 'Moiré Fractional Chern Insulators IV: Fluctuation-Driven Collapse of FCIs in Multi-Band Exact Diagonalization Calculations on Rhombohedral Graphene',\n",
       "  'description': 'The fractional Chern insulators (FCIs) observed in pentalayer rhombohedral graphene/hexagonal boron nitride superlattices have a unique origin contrary to theoretical expectations: their non-interacting band structure is gapless, unlike standard FCIs and the Landau level. Hartree-Fock (HF) calculations at filling $\\\\nu=1$ yield a gapped ground state with Chern number 1 through band mixing, identifying a possible parent state. However, many-body calculations restricted to the occupied HF band predispose the system towards FCIs and are essentially uncontrolled. In this work, we use unbiased multi-band exact diagonalization (ED) to allow fluctuations into the gapless bands for two normal-ordering schemes. In the \"charge neutrality\" scheme, the weak moir\\\\\\'e potential leads to theoretical proposals based on Wigner crystal-like states. However, we find that FCIs seen in 1-band ED calculations are destroyed by band mixing, becoming gapless as fluctuations are included. In the \"average\" scheme, the Coulomb interaction with the periodic valence charge background sets up a stronger moir\\\\\\'e potential. On small systems, FCIs at $\\\\nu=1/3$ are destroyed in multi-band calculations, while those at $\\\\nu=2/3$ are initially strengthened. However we do not converge to a stable FCI at $\\\\nu=2/3$ even on the largest accessible systems. These findings question prior results obtained within projection to a single HF band. They suggest that current models do not support FCIs with correlation length small enough to be converged in accessible, unbiased ED calculations, or do not support FCIs at all.',\n",
       "  'publication_date': '2024-07-18',\n",
       "  'authors': ['Jiabin Yu',\n",
       "   'Jonah Herzog-Arbeitman',\n",
       "   'Yves H. Kwan',\n",
       "   'Nicolas Regnault',\n",
       "   'B. Andrei Bernevig'],\n",
       "  'link': 'http://arxiv.org/pdf/2407.13770v1'},\n",
       " {'title': 'A mixed method feasibility and acceptability study of a flexible intervention based on acceptance and commitment therapy for patients with cancer.',\n",
       "  'authors': ['François Bourgognon',\n",
       "   'Denise Bechet',\n",
       "   'Cécile Huin-Schohn',\n",
       "   'et. al.'],\n",
       "  'keywords': 'MAEva program\", \"acceptance and commitment therapy\", \"cancer\", \"mindfulness\", \"quality of life\", \"stress',\n",
       "  'publication_date': '2024-07-18',\n",
       "  'description': 'This study aimed to propose an innovative, open, and circular program that combines acceptance and commitment therapy (ACT) and mindfulness practices. We assessed its feasibility, acceptability, and first signs of its effect on psychological wellbeing in cancer support treatment.\\nA single-center, single-arm, uncontrolled study was performed. Forty adult patients with non-metastatic prostate or breast cancer, newly diagnosed or undergoing treatment (chemotherapy, radiotherapy, hormone therapy), were recruited. Three cycles of three MAEva program sessions (MAEva: Mindfulness meditation, Acceptance, and Commitment to values program) over nine consecutive weeks were proposed. During the total of 12 weeks of follow-up, after attending the first session, patients were free to attend subsequent sessions.\\nAdherence to the study was high, with participation in an average of 6.8 out of nine sessions. A total of eight patients attended all sessions over the three cycles, and 90% participated in at least one cycle. Furthermore, attendance was associated with a statistically significant improvement in Quality of Life (QoL). Each additional session was associated with a mean increase in overall QoL score of more than one point ( = 1.09 [0.13; 2.04], \\nThis study highlights the feasibility and acceptability of an original program that combines ACT and mindfulness practices in cancer patients. Future studies are required to demonstrate the efficacy of the MAEVA program. The MAEva pilot study is registered with ClinicalTrials.gov under the identifier NCT04751201.\\nhttps://classic.clinicaltrials.gov/ct2/show/NCT04751201, identifier [NCT04751201].',\n",
       "  'link': '10.3389/fpsyg.2024.1409308'},\n",
       " {'title': 'Understanding the multilevel factors influencing the implementation of digital health interventions for supportive care in Adolescents and Young Adult (AYA) cancer survivorship: determinants of adopting mindfulness-based mobile applications.',\n",
       "  'authors': ['Gary Kwok', 'Angela Senger', 'Archana Sharma', 'et. al.'],\n",
       "  'keywords': 'Adolescents and Young Adults\", \"Cancer Survivorship\", \"Digital Health/mHealth\", \"Psycho-Oncology',\n",
       "  'publication_date': '2024-07-18',\n",
       "  'description': \"Adolescents and Young Adult (AYA) cancer survivors are at risk for psychological distress due to their unique developmental and medical needs. Healthcare providers can leverage the convenience and appeal of technology to provide supportive care for this vulnerable population. Using evidence-based mindfulness-based mobile interventions as a case example, the goal of this study was to identify key patient-, provider-, and organization-level barriers and facilitators to supportive care and implementing digital health interventions in AYA survivorship care.\\nTwenty semi-structured interviews were conducted with stakeholders including AYA survivors (n=10; between 18-29years old) and clinical providers and administrators (n=10). Interviews were transcribed and deductively mapped using the Consolidated Framework for Implementation Research (CFIR) and Theoretical Domains Framework (TDF) complementary frameworks.\\nResults indicated that factors like cost and patients' needs and resources were prevalent among both survivors and providers. There were key differences between providers and AYA survivors. Providers' adoption and promotion of digital health interventions were influenced most strongly by contextual factors, including available resources (Inner Setting), culture (Outer Setting), and networks and communications (Outer Setting). On the other hand, survivors emphasized individual and intervention-related factors; they reported that social influence and knowledge influenced their adoption and use of digital health interventions, including meditation apps.\\nThese results identified barriers and facilitators to the adoption of supportive care digital health interventions from multiple stakeholders. Results can be used to guide the development of implementation strategies to improve the uptake of digital health interventions in survivorship care, ultimately improving the psychosocial well-being of AYA cancer survivors.\",\n",
       "  'link': '10.1186/s43058-024-00612-w'},\n",
       " {'title': 'Non-small cell lung cancer cells and concomitant cancer therapy induce a resistance-promoting phenotype of tumor-associated mesenchymal stem cells.',\n",
       "  'authors': ['Hanna Sentek', 'Annika Braun', 'Bettina Budeus', 'et. al.'],\n",
       "  'keywords': 'NSCLC\", \"SASP\", \"adventitia\", \"lung cancer\", \"mesenchymal stem cells\", \"radiotherapy\", \"resistance\", \"senescence',\n",
       "  'publication_date': '2024-07-16',\n",
       "  'description': 'The tumor microenvironment gained attraction over the last decades as stromal cells significantly impact on tumor development, progression and metastasis, and immune evasion as well as on cancer therapy resistance. We previously reported that lung-resident mesenchymal stem cells (MSCs) were mobilized and activated in non-small cell lung cancer (NSCLC) progression and could even mediate radiation resistance in co-cultured NSCLC cells.\\nWe investigated how MSCs were affected by NSCLC cells in combination with cancer (radiation) therapy in indirect co-cultures using tumor-conditioned medium and Transwells or direct three-dimensional NSCLC-MSC spheroid co-cultures in order to unravel the resistance-mediating action of tumor-associated MSCs.\\nAlthough no obvious phenotypic and functional alterations in MSCs following NSCLC co-culture could be observed, MSC senescence was induced following co-applied radiotherapy (RT). Global gene expression profiling, in combination with gene set enrichment analysis upon treatment, was used to confirm the senescent phenotype of irradiated MSC and to reveal relevant senescence-associated secretory phenotype (SASP) factors that could meditate NSCLC RT resistance. We identified senescent tumor-associated MSC-derived serine proteinase inhibitor (serpin) E1/PAI1 as potential SASP factor mediating NSCLC progression and RT resistance.\\nSpecified intra-tumor-stroma interactions and cell type-specific pro-tumorigenic functions could not only improve lung cancer classification but could even be used for a more precise profiling of individual patients, finally paving an additional way for the discovery of potential drug targets for NSCLC patients.',\n",
       "  'link': '10.3389/fonc.2024.1406268'},\n",
       " {'title': 'Psilocybin-facilitated Smoking Cessation Treatment: A Pilot Study',\n",
       "  'description': 'One of the most promising lines of investigation for the therapeutic use of hallucinogens in the 1960s and 1970s was in the treatment of drug dependence. The investigators propose to examine psilocybin administration combined with a structured smoking cessation treatment program in nicotine dependent individuals in order to provide preliminary data on the efficacy of this combined treatment for smoking cessation. Prior work in the investigators laboratory has shown that under carefully prepared and supportive conditions, psilocybin administration can facilitate highly salient experiences with enduring personal meaning and spiritual significance. It is plausible that embedding such highly meaningful experiences into a drug dependence cessation attempt may provide an enduring motivation for remaining abstinent. Cigarette smoking is a good model system for studying drug dependence because users are less likely to be challenged by the many social and economic impairments that often accompany dependence on other drugs such as cocaine, heroin, or alcohol. More specifically, the investigators propose to conduct a randomized controlled comparative efficacy study in which either psilocybin or transdermal nicotine patch are administered under highly supportive conditions to individuals who are nicotine-dependent cigarette smokers, who have had multiple unsuccessful quit attempts, and who continue to desire to quit smoking. Other than nicotine dependence, participants will be healthy. Fifteen participants have already completed a preliminary open-label pilot-study with no control condition. Eighty additional participants will be enrolled and randomized to either psilocybin (n=40), or nicotine patch (n=40) treatment. Participants will receive a 13-week course of cognitive behavioral therapy for smoking cessation, with Target Quit Date set for week 5. After several preparation meetings with study monitors, participants will have either a single day-long psilocybin session using a high dose (30 mg/70 kg), or a standard 8 to 10-week course of nicotine patch treatment. Participant smoking status will be assessed repeatedly for 8 weeks after the Target Quit Date, including biological verification of smoking status through breath and urine samples. Smoking status will also be assessed at three follow up sessions approximately 3, 6, and 12 months after the Target Quit Date. Additionally, 50 of these participants (25 per treatment condition) will undergo MRI scanning before and after Target Quit Date to assess the brain-based mechanisms associated with these treatments. Individuals assigned to the nicotine patch study treatment condition will be eligible to undergo an optional high dose psilocybin session after completing the 6-month follow-up meeting.',\n",
       "  'link': 'https://clinicaltrials.gov/ct2/show/NCT01943994'},\n",
       " {'title': 'Safety of GH001 in Healthy Volunteers',\n",
       "  'description': 'The aim of the study is to investigate the safety of GH001 (containing 5-methoxy-dimethyltryptamine; 5-MeO-DMT), and its dose-related psychoactive effects in healthy volunteers.\\n\\nThe study will evaluate single, ascending doses of GH001 in Part A and an individualized dosing regimen of GH001 in Part B.',\n",
       "  'link': 'https://clinicaltrials.gov/ct2/show/NCT04640831'},\n",
       " {'title': 'Pharmacokinetics of GH001 in Healthy Volunteers',\n",
       "  'description': 'The primary objective of this study is to investigate the serum pharmacokinetics of 5-MeO-DMT and its metabolite, bufotenine in healthy volunteers in a double-blind, placebo-controlled, randomized study design with single, inhaled doses of GH001 and in an open-label, non-randomized study design with intra-subject dose-escalation of GH001. As a secondary objective, the safety and tolerability of GH001, the mental health and well-being of the subjects after GH001 dosing(s), the pharmacodynamic profile of GH001 as evaluated by its psychoactive effects, and cognitive measures are also assessed.',\n",
       "  'link': 'https://clinicaltrials.gov/ct2/show/NCT05163691'},\n",
       " {'title': 'Wagering game machine with biofeedback-aware game presentation',\n",
       "  'url': 'https://patentimages.storage.googleapis.com/1b/e3/bd/4414243bd2e3a8/US9330523.pdf',\n",
       "  'description': 'A computerized wagering game system includes a gaming module comprising gaming code which is operable when executed on to conduct a wagering game on which monetary value can be wagered, and a biofeedback module operable to track at least one biometric characteristic of a game player. The wagering …',\n",
       "  'patent_number': 'US9330523B2',\n",
       "  'inventor': 'James E. Sutton',\n",
       "  'date_filed': '2012-09-14'},\n",
       " {'title': 'Perceptible Apparatus and Methods for Reactive Effect',\n",
       "  'url': 'https://patentimages.storage.googleapis.com/8b/ec/03/d4e0a1bec2e5a6/US20100161010A1.pdf',\n",
       "  'description': 'A perceptible apparatus and method for creating a subtle energy field is disclosed. The apparatus includes a light source and a plurality of configuration elements that are in effectual communication with the light source, wherein the configuration elements are adjustably selectable to produce …',\n",
       "  'patent_number': 'US20100161010A1',\n",
       "  'inventor': 'David A. Thomas',\n",
       "  'date_filed': '2009-12-16'},\n",
       " {'title': 'Process for Producing Water and Other Fluids with Increased Levels of a …',\n",
       "  'url': 'https://patentimages.storage.googleapis.com/38/b2/33/e1d546e309189a/US20210046184A1.pdf',\n",
       "  'description': 'It is becoming increasingly recognized that water may provide health benefits beyond those attributed to hydration. The ability of water to provide such benefits can vary, however, with the original source of the water and how the water has been treated prior to it being consumed. A number of …',\n",
       "  'patent_number': 'US20210046184A1',\n",
       "  'inventor': 'William John Martin',\n",
       "  'date_filed': '2019-08-18'},\n",
       " {'name': 'michael Levin',\n",
       "  'affiliation': '',\n",
       "  'n_cited_by': 47574,\n",
       "  'url': 'https://scholar.google.com/citations?user=w5mnpN4AAAAJ&hl=en&num=3&oi=ao',\n",
       "  'scholar_id': 'w5mnpN4AAAAJ'},\n",
       " {'name': 'Michael Levin',\n",
       "  'affiliation': '',\n",
       "  'n_cited_by': 30164,\n",
       "  'url': 'https://scholar.google.com/citations?user=luouyakAAAAJ&hl=en&num=3&oi=ao',\n",
       "  'scholar_id': 'luouyakAAAAJ'}]"
      ]
     },
     "execution_count": 5,
     "metadata": {},
     "output_type": "execute_result"
    }
   ],
   "source": [
    "response"
   ]
  },
  {
   "cell_type": "code",
   "execution_count": null,
   "id": "8596a2e7-2363-4816-bf1e-0c862ad303cc",
   "metadata": {},
   "outputs": [],
   "source": []
  },
  {
   "cell_type": "code",
   "execution_count": null,
   "id": "d63af2b5-0e36-4c3a-83d5-94f58c05b0eb",
   "metadata": {},
   "outputs": [],
   "source": []
  },
  {
   "cell_type": "code",
   "execution_count": null,
   "id": "2b56bd59-64e9-4885-b458-9e29b8339721",
   "metadata": {},
   "outputs": [],
   "source": []
  },
  {
   "cell_type": "code",
   "execution_count": null,
   "id": "8fbcfe72-995f-4907-9d10-3b28741edd27",
   "metadata": {},
   "outputs": [],
   "source": []
  },
  {
   "cell_type": "code",
   "execution_count": null,
   "id": "d37e82e5-1b6a-4a83-ab49-1105d0769314",
   "metadata": {},
   "outputs": [],
   "source": []
  },
  {
   "cell_type": "code",
   "execution_count": 7,
   "id": "b6c8f88f-4fdd-4f4d-9eaf-f74582d95ac1",
   "metadata": {},
   "outputs": [],
   "source": [
    "# import pypatent\n",
    "\n",
    "# conn = pypatent.WebConnection(use_selenium=False)\n",
    "# res = pypatent.Search('orgone', results_limit=5)\n",
    "# print(res)\n",
    "\n",
    "# patents = pypatent.Search(ttl='orgone generator', results_limit=3).as_list()"
   ]
  },
  {
   "cell_type": "code",
   "execution_count": 8,
   "id": "35583d8b-7bd6-4fd2-a069-d12927e713c9",
   "metadata": {},
   "outputs": [],
   "source": [
    "# from rq import Queue, get_current_job\n",
    "# from rq.registry import StartedJobRegistry\n",
    "# from rq import Queue, Worker\n",
    "# import redis\n",
    "\n",
    "# redis_conn = redis.Redis(host='redis', port=6379)\n",
    "# # get_current_job(connection=redis_conn)\n",
    "# registry = StartedJobRegistry('default', connection=redis_conn)\n",
    "# expired_job_ids = registry.get_expired_job_ids() \n",
    "# running_job_ids = registry.get_job_ids()  # Jobs which are exactly running. \n",
    "# workers = Worker.all(connection=redis_conn)\n",
    "# queued_job_ids = registry.get_queue().job_ids"
   ]
  },
  {
   "cell_type": "code",
   "execution_count": null,
   "id": "934cf555-da48-466d-bd65-32703d461100",
   "metadata": {},
   "outputs": [],
   "source": [
    "# import requests\n",
    "\n",
    "# def search_uspto(query,\n",
    "#                  n_results=3):\n",
    "#     base_url = 'https://developer.uspto.gov/ibd-api/v1/application/publications'\n",
    "#     params = {\n",
    "#         'searchText': text_query,\n",
    "#         'start': 0,\n",
    "#         'rows': n_results\n",
    "#     }\n",
    "#     response = requests.get(base_url, params=params)\n",
    "#     if response.status_code == 200:\n",
    "#         query_response = response.json()['results']\n",
    "#         patent_results = []\n",
    "#         for i in query_response:\n",
    "#             patent_results.append({\n",
    "#                 'title': i['inventionTitle'],\n",
    "#                 'description': i['abstractText'],\n",
    "#                 'inventors': i['inventorNameArrayText'],\n",
    "#                 'filing_date': i['filingDate'],\n",
    "#                 'patent_type': i['inventionSubjectMatterCategory'],\n",
    "#                 'application_number': i['patentApplicationNumber']\n",
    "#             })\n",
    "#         return patent_results\n",
    "#     else:\n",
    "#         response.raise_for_status()"
   ]
  }
 ],
 "metadata": {
  "kernelspec": {
   "display_name": "Python 3 (ipykernel)",
   "language": "python",
   "name": "python3"
  },
  "language_info": {
   "codemirror_mode": {
    "name": "ipython",
    "version": 3
   },
   "file_extension": ".py",
   "mimetype": "text/x-python",
   "name": "python",
   "nbconvert_exporter": "python",
   "pygments_lexer": "ipython3",
   "version": "3.12.4"
  }
 },
 "nbformat": 4,
 "nbformat_minor": 5
}
