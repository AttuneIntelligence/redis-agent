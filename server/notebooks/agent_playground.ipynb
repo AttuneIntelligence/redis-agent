{
 "cells": [
  {
   "cell_type": "code",
   "execution_count": 6,
   "id": "7203d5fb-795b-4b3d-81b5-51b93b078baf",
   "metadata": {},
   "outputs": [],
   "source": [
    "import sys\n",
    "\n",
    "sys.path.append('/workspace/redis-agent/src')\n",
    "from my_agent import MyAgent\n"
   ]
  },
  {
   "cell_type": "code",
   "execution_count": 7,
   "id": "51f7e7e5-4151-47ef-ab78-ad59afe78d2a",
   "metadata": {},
   "outputs": [],
   "source": [
    "### INITIALIZATION\n",
    "MyAgent = MyAgent()"
   ]
  },
  {
   "cell_type": "code",
   "execution_count": 12,
   "id": "593e2177-4ba5-4670-bef8-6c33481c6228",
   "metadata": {},
   "outputs": [],
   "source": [
    "query_list = [\n",
    "    {\n",
    "        'name': 'search_arXiv',\n",
    "        'arguments': {\n",
    "            'query': 'Non-linear chaotic modeling'\n",
    "        }\n",
    "    },\n",
    "    {\n",
    "        'name': 'search_pubmed',\n",
    "        'arguments': {\n",
    "            'query': 'Cancer interventions with meditation'\n",
    "        }\n",
    "    },\n",
    "    {\n",
    "        'name': 'search_clinical_trials',\n",
    "        'arguments': {\n",
    "            'query': 'dimethyltryptamine'\n",
    "        }\n",
    "    }\n",
    "]"
   ]
  },
  {
   "cell_type": "code",
   "execution_count": 13,
   "id": "d085bdb6-f17d-4055-9852-bad29533da2f",
   "metadata": {},
   "outputs": [
    {
     "name": "stdout",
     "output_type": "stream",
     "text": [
      "Agent execution complete in 2.0 seconds.\n"
     ]
    }
   ],
   "source": [
    "response = MyAgent.Agent_Queue.queue_function_calls(query_list)"
   ]
  },
  {
   "cell_type": "code",
   "execution_count": 14,
   "id": "06689cbf-c5a7-44b7-b6eb-dc45df12e4a2",
   "metadata": {},
   "outputs": [
    {
     "data": {
      "text/plain": [
       "[{'GroupMamba: Parameter-Efficient and Accurate Group Visual State Space Model': {'description': 'Recent advancements in state-space models (SSMs) have showcased effective performance in modeling long-range dependencies with subquadratic complexity. However, pure SSM-based models still face challenges related to stability and achieving optimal performance on computer vision tasks. Our paper addresses the challenges of scaling SSM-based models for computer vision, particularly the instability and inefficiency of large model sizes. To address this, we introduce a Modulated Group Mamba layer which divides the input channels into four groups and applies our proposed SSM-based efficient Visual Single Selective Scanning (VSSS) block independently to each group, with each VSSS block scanning in one of the four spatial directions. The Modulated Group Mamba layer also wraps the four VSSS blocks into a channel modulation operator to improve cross-channel communication. Furthermore, we introduce a distillation-based training objective to stabilize the training of large models, leading to consistent performance gains. Our comprehensive experiments demonstrate the merits of the proposed contributions, leading to superior performance over existing methods for image classification on ImageNet-1K, object detection, instance segmentation on MS-COCO, and semantic segmentation on ADE20K. Our tiny variant with 23M parameters achieves state-of-the-art performance with a classification top-1 accuracy of 83.3% on ImageNet-1K, while being 26% efficient in terms of parameters, compared to the best existing Mamba design of same model size. Our code and models are available at: https://github.com/Amshaker/GroupMamba.',\n",
       "   'publication_date': '2024-07-18',\n",
       "   'authors': ['Abdelrahman Shaker',\n",
       "    'Syed Talal Wasim',\n",
       "    'Salman Khan',\n",
       "    'Juergen Gall',\n",
       "    'Fahad Shahbaz Khan'],\n",
       "   'link': 'http://arxiv.org/pdf/2407.13772v1'}},\n",
       " {'Training-Free Model Merging for Multi-target Domain Adaptation': {'description': 'In this paper, we study multi-target domain adaptation of scene understanding models. While previous methods achieved commendable results through inter-domain consistency losses, they often assumed unrealistic simultaneous access to images from all target domains, overlooking constraints such as data transfer bandwidth limitations and data privacy concerns. Given these challenges, we pose the question: How to merge models adapted independently on distinct domains while bypassing the need for direct access to training data? Our solution to this problem involves two components, merging model parameters and merging model buffers (i.e., normalization layer statistics). For merging model parameters, empirical analyses of mode connectivity surprisingly reveal that linear merging suffices when employing the same pretrained backbone weights for adapting separate models. For merging model buffers, we model the real-world distribution with a Gaussian prior and estimate new statistics from the buffers of separately trained models. Our method is simple yet effective, achieving comparable performance with data combination training baselines, while eliminating the need for accessing training data. Project page: https://air-discover.github.io/ModelMerging',\n",
       "   'publication_date': '2024-07-18',\n",
       "   'authors': ['Wenyi Li',\n",
       "    'Huan-ang Gao',\n",
       "    'Mingju Gao',\n",
       "    'Beiwen Tian',\n",
       "    'Rong Zhi',\n",
       "    'Hao Zhao'],\n",
       "   'link': 'http://arxiv.org/pdf/2407.13771v1'}},\n",
       " {'A mixed method feasibility and acceptability study of a flexible intervention based on acceptance and commitment therapy for patients with cancer.': {'authors': ['François Bourgognon',\n",
       "    'Denise Bechet',\n",
       "    'Cécile Huin-Schohn',\n",
       "    'et. al.'],\n",
       "   'keywords': 'MAEva program\", \"acceptance and commitment therapy\", \"cancer\", \"mindfulness\", \"quality of life\", \"stress',\n",
       "   'publication_date': '2024-07-18',\n",
       "   'abstract': 'This study aimed to propose an innovative, open, and circular program that combines acceptance and commitment therapy (ACT) and mindfulness practices. We assessed its feasibility, acceptability, and first signs of its effect on psychological wellbeing in cancer support treatment.\\nA single-center, single-arm, uncontrolled study was performed. Forty adult patients with non-metastatic prostate or breast cancer, newly diagnosed or undergoing treatment (chemotherapy, radiotherapy, hormone therapy), were recruited. Three cycles of three MAEva program sessions (MAEva: Mindfulness meditation, Acceptance, and Commitment to values program) over nine consecutive weeks were proposed. During the total of 12 weeks of follow-up, after attending the first session, patients were free to attend subsequent sessions.\\nAdherence to the study was high, with participation in an average of 6.8 out of nine sessions. A total of eight patients attended all sessions over the three cycles, and 90% participated in at least one cycle. Furthermore, attendance was associated with a statistically significant improvement in Quality of Life (QoL). Each additional session was associated with a mean increase in overall QoL score of more than one point ( = 1.09 [0.13; 2.04], \\nThis study highlights the feasibility and acceptability of an original program that combines ACT and mindfulness practices in cancer patients. Future studies are required to demonstrate the efficacy of the MAEVA program. The MAEva pilot study is registered with ClinicalTrials.gov under the identifier NCT04751201.\\nhttps://classic.clinicaltrials.gov/ct2/show/NCT04751201, identifier [NCT04751201].',\n",
       "   'link': '10.3389/fpsyg.2024.1409308'}},\n",
       " {'Understanding the multilevel factors influencing the implementation of digital health interventions for supportive care in Adolescents and Young Adult (AYA) cancer survivorship: determinants of adopting mindfulness-based mobile applications.': {'authors': ['Gary Kwok',\n",
       "    'Angela Senger',\n",
       "    'Archana Sharma',\n",
       "    'et. al.'],\n",
       "   'keywords': 'Adolescents and Young Adults\", \"Cancer Survivorship\", \"Digital Health/mHealth\", \"Psycho-Oncology',\n",
       "   'publication_date': '2024-07-18',\n",
       "   'abstract': \"Adolescents and Young Adult (AYA) cancer survivors are at risk for psychological distress due to their unique developmental and medical needs. Healthcare providers can leverage the convenience and appeal of technology to provide supportive care for this vulnerable population. Using evidence-based mindfulness-based mobile interventions as a case example, the goal of this study was to identify key patient-, provider-, and organization-level barriers and facilitators to supportive care and implementing digital health interventions in AYA survivorship care.\\nTwenty semi-structured interviews were conducted with stakeholders including AYA survivors (n=10; between 18-29years old) and clinical providers and administrators (n=10). Interviews were transcribed and deductively mapped using the Consolidated Framework for Implementation Research (CFIR) and Theoretical Domains Framework (TDF) complementary frameworks.\\nResults indicated that factors like cost and patients' needs and resources were prevalent among both survivors and providers. There were key differences between providers and AYA survivors. Providers' adoption and promotion of digital health interventions were influenced most strongly by contextual factors, including available resources (Inner Setting), culture (Outer Setting), and networks and communications (Outer Setting). On the other hand, survivors emphasized individual and intervention-related factors; they reported that social influence and knowledge influenced their adoption and use of digital health interventions, including meditation apps.\\nThese results identified barriers and facilitators to the adoption of supportive care digital health interventions from multiple stakeholders. Results can be used to guide the development of implementation strategies to improve the uptake of digital health interventions in survivorship care, ultimately improving the psychosocial well-being of AYA cancer survivors.\",\n",
       "   'link': '10.1186/s43058-024-00612-w'}},\n",
       " {'Non-small cell lung cancer cells and concomitant cancer therapy induce a resistance-promoting phenotype of tumor-associated mesenchymal stem cells.': {'authors': ['Hanna Sentek',\n",
       "    'Annika Braun',\n",
       "    'Bettina Budeus',\n",
       "    'et. al.'],\n",
       "   'keywords': 'NSCLC\", \"SASP\", \"adventitia\", \"lung cancer\", \"mesenchymal stem cells\", \"radiotherapy\", \"resistance\", \"senescence',\n",
       "   'publication_date': '2024-07-16',\n",
       "   'abstract': 'The tumor microenvironment gained attraction over the last decades as stromal cells significantly impact on tumor development, progression and metastasis, and immune evasion as well as on cancer therapy resistance. We previously reported that lung-resident mesenchymal stem cells (MSCs) were mobilized and activated in non-small cell lung cancer (NSCLC) progression and could even mediate radiation resistance in co-cultured NSCLC cells.\\nWe investigated how MSCs were affected by NSCLC cells in combination with cancer (radiation) therapy in indirect co-cultures using tumor-conditioned medium and Transwells or direct three-dimensional NSCLC-MSC spheroid co-cultures in order to unravel the resistance-mediating action of tumor-associated MSCs.\\nAlthough no obvious phenotypic and functional alterations in MSCs following NSCLC co-culture could be observed, MSC senescence was induced following co-applied radiotherapy (RT). Global gene expression profiling, in combination with gene set enrichment analysis upon treatment, was used to confirm the senescent phenotype of irradiated MSC and to reveal relevant senescence-associated secretory phenotype (SASP) factors that could meditate NSCLC RT resistance. We identified senescent tumor-associated MSC-derived serine proteinase inhibitor (serpin) E1/PAI1 as potential SASP factor mediating NSCLC progression and RT resistance.\\nSpecified intra-tumor-stroma interactions and cell type-specific pro-tumorigenic functions could not only improve lung cancer classification but could even be used for a more precise profiling of individual patients, finally paving an additional way for the discovery of potential drug targets for NSCLC patients.',\n",
       "   'link': '10.3389/fonc.2024.1406268'}},\n",
       " {'Psilocybin-facilitated Smoking Cessation Treatment: A Pilot Study': {'description': 'One of the most promising lines of investigation for the therapeutic use of hallucinogens in the 1960s and 1970s was in the treatment of drug dependence. The investigators propose to examine psilocybin administration combined with a structured smoking cessation treatment program in nicotine dependent individuals in order to provide preliminary data on the efficacy of this combined treatment for smoking cessation. Prior work in the investigators laboratory has shown that under carefully prepared and supportive conditions, psilocybin administration can facilitate highly salient experiences with enduring personal meaning and spiritual significance. It is plausible that embedding such highly meaningful experiences into a drug dependence cessation attempt may provide an enduring motivation for remaining abstinent. Cigarette smoking is a good model system for studying drug dependence because users are less likely to be challenged by the many social and economic impairments that often accompany dependence on other drugs such as cocaine, heroin, or alcohol. More specifically, the investigators propose to conduct a randomized controlled comparative efficacy study in which either psilocybin or transdermal nicotine patch are administered under highly supportive conditions to individuals who are nicotine-dependent cigarette smokers, who have had multiple unsuccessful quit attempts, and who continue to desire to quit smoking. Other than nicotine dependence, participants will be healthy. Fifteen participants have already completed a preliminary open-label pilot-study with no control condition. Eighty additional participants will be enrolled and randomized to either psilocybin (n=40), or nicotine patch (n=40) treatment. Participants will receive a 13-week course of cognitive behavioral therapy for smoking cessation, with Target Quit Date set for week 5. After several preparation meetings with study monitors, participants will have either a single day-long psilocybin session using a high dose (30 mg/70 kg), or a standard 8 to 10-week course of nicotine patch treatment. Participant smoking status will be assessed repeatedly for 8 weeks after the Target Quit Date, including biological verification of smoking status through breath and urine samples. Smoking status will also be assessed at three follow up sessions approximately 3, 6, and 12 months after the Target Quit Date. Additionally, 50 of these participants (25 per treatment condition) will undergo MRI scanning before and after Target Quit Date to assess the brain-based mechanisms associated with these treatments. Individuals assigned to the nicotine patch study treatment condition will be eligible to undergo an optional high dose psilocybin session after completing the 6-month follow-up meeting.',\n",
       "   'link': 'https://clinicaltrials.gov/ct2/show/NCT01943994'}},\n",
       " {'Safety of GH001 in Healthy Volunteers': {'description': 'The aim of the study is to investigate the safety of GH001 (containing 5-methoxy-dimethyltryptamine; 5-MeO-DMT), and its dose-related psychoactive effects in healthy volunteers.\\n\\nThe study will evaluate single, ascending doses of GH001 in Part A and an individualized dosing regimen of GH001 in Part B.',\n",
       "   'link': 'https://clinicaltrials.gov/ct2/show/NCT04640831'}},\n",
       " {'Pharmacokinetics of GH001 in Healthy Volunteers': {'description': 'The primary objective of this study is to investigate the serum pharmacokinetics of 5-MeO-DMT and its metabolite, bufotenine in healthy volunteers in a double-blind, placebo-controlled, randomized study design with single, inhaled doses of GH001 and in an open-label, non-randomized study design with intra-subject dose-escalation of GH001. As a secondary objective, the safety and tolerability of GH001, the mental health and well-being of the subjects after GH001 dosing(s), the pharmacodynamic profile of GH001 as evaluated by its psychoactive effects, and cognitive measures are also assessed.',\n",
       "   'link': 'https://clinicaltrials.gov/ct2/show/NCT05163691'}}]"
      ]
     },
     "execution_count": 14,
     "metadata": {},
     "output_type": "execute_result"
    }
   ],
   "source": [
    "response"
   ]
  },
  {
   "cell_type": "code",
   "execution_count": null,
   "id": "d88ee3ed-a486-44b3-bef0-eaa307736253",
   "metadata": {},
   "outputs": [],
   "source": []
  },
  {
   "cell_type": "code",
   "execution_count": null,
   "id": "980f1360-7ce5-4da3-b373-b82287543923",
   "metadata": {},
   "outputs": [],
   "source": []
  },
  {
   "cell_type": "code",
   "execution_count": null,
   "id": "b6c8f88f-4fdd-4f4d-9eaf-f74582d95ac1",
   "metadata": {},
   "outputs": [],
   "source": []
  },
  {
   "cell_type": "code",
   "execution_count": null,
   "id": "a20d8b2f-e9da-4927-bca4-d3b4c8b4a4c7",
   "metadata": {},
   "outputs": [],
   "source": []
  },
  {
   "cell_type": "code",
   "execution_count": null,
   "id": "54eedec3-a659-40cd-96b6-fd98dc0d8445",
   "metadata": {},
   "outputs": [],
   "source": []
  },
  {
   "cell_type": "code",
   "execution_count": 5,
   "id": "1623ceee-c177-46bf-afb2-a7a31cd0e42e",
   "metadata": {},
   "outputs": [
    {
     "data": {
      "text/plain": [
       "[{'Dynamics of Cities': {'description': 'This study investigates city dynamics employing a nonextensive diffusion equation suited for addressing diffusion within a fractal medium, where the nonadditive parameter, $q$, plays a relevant role. The findings demonstrate the efficacy of this approach in determining the relation between the fractal dimension of the city, the allometric exponent and $q$, and elucidating the stationary phase of urban evolution. The dynamic methodology facilitates the correlation of the fractal dimension with both the entropic index and the urban scaling exponent identified in data analyses. The results reveal that the scaling behaviour observed in cities aligns with the fractal dimension measured through independent methods. Moreover, the interpretation of these findings underscores the intimate connection between the fractal dimension and social interactions within the urban context. This research contributes to a deeper comprehension of the intricate interplay between human behaviour, urban dynamics, and the underlying fractal nature of cities.',\n",
       "   'publication_date': '2024-07-17',\n",
       "   'authors': ['A. Deppman',\n",
       "    'R. L. Fagundes',\n",
       "    'E. Megias',\n",
       "    'R. Pasechnik',\n",
       "    'F. L. Ribeiro',\n",
       "    'C. Tsallis'],\n",
       "   'link': 'http://arxiv.org/pdf/2407.12681v1'}},\n",
       " {'Global bifurcations organizing weak chimeras in three symmetrically coupled Kuramoto oscillators with inertia': {'description': 'Frequency desynchronized attractors cannot appear in identically coupled symmetric phase oscillators because \"overtaking\" of phases cannot occur. This restriction no longer applies for more general identically coupled oscillators. Hence, it is interesting to understand precisely how frequency synchrony is lost and how invariant sets such as attracting weak chimeras are generated at torus breakup, where the phase description breaks down. Maistrenko et al (2016) found numerical evidence of an organizing center for weak chimeras in a system of $N=3$ coupled identical Kuramoto oscillators with inertia. This paper identifies this organizing center and shows that it corresponds to a particular type of non-transverse heteroclinic bifurcation that is generic in the context of symmetry. At this codimension two bifurcation there is a splitting of connecting orbits between the in-phase (fully synchronized) state. This generates a wide variety of associated bifurcations to weak chimeras. We further highlight a second organizing center associated with a codimension two symmetry-breaking heteroclinic connection.',\n",
       "   'publication_date': '2024-07-17',\n",
       "   'authors': ['Peter Ashwin', 'Christian Bick'],\n",
       "   'link': 'http://arxiv.org/pdf/2407.12524v1'}}]"
      ]
     },
     "execution_count": 5,
     "metadata": {},
     "output_type": "execute_result"
    }
   ],
   "source": [
    "MyAgent.Toolkit.execute_function_call({'name': 'search_arXiv', 'arguments': {'query': 'Non-linear chaotic modelin'}}, MyAgent.Toolkit.all_tools)"
   ]
  },
  {
   "cell_type": "code",
   "execution_count": null,
   "id": "900b445a-8370-424e-a0d2-7f104331fe6f",
   "metadata": {},
   "outputs": [],
   "source": []
  },
  {
   "cell_type": "code",
   "execution_count": null,
   "id": "526377e3-539f-481d-a0d5-ec722439e10c",
   "metadata": {},
   "outputs": [],
   "source": []
  },
  {
   "cell_type": "code",
   "execution_count": 10,
   "id": "35583d8b-7bd6-4fd2-a069-d12927e713c9",
   "metadata": {},
   "outputs": [],
   "source": [
    "from rq import Queue, get_current_job\n",
    "from rq.registry import StartedJobRegistry\n",
    "from rq import Queue, Worker\n",
    "\n",
    "redis_conn = redis.Redis(host='redis', port=6379)\n",
    "# get_current_job(connection=redis_conn)\n",
    "registry = StartedJobRegistry('default', connection=redis_conn)\n",
    "expired_job_ids = registry.get_expired_job_ids() \n",
    "running_job_ids = registry.get_job_ids()  # Jobs which are exactly running. \n",
    "workers = Worker.all(connection=redis_conn)\n",
    "queued_job_ids = registry.get_queue().job_ids"
   ]
  },
  {
   "cell_type": "code",
   "execution_count": 11,
   "id": "3c98bfad-4bad-4661-883e-c6616e097009",
   "metadata": {},
   "outputs": [
    {
     "data": {
      "text/plain": [
       "['cbb13d03-c6d7-487d-a16d-c92201083d6f',\n",
       " '5bf46cbc-45de-431c-827c-c63d2c85f3a7',\n",
       " 'ade4c665-c9b8-4fae-89bd-02c18602dcc0',\n",
       " 'ae310254-5714-404b-8e39-c934fc45c6e9']"
      ]
     },
     "execution_count": 11,
     "metadata": {},
     "output_type": "execute_result"
    }
   ],
   "source": [
    "running_job_ids\n"
   ]
  },
  {
   "cell_type": "code",
   "execution_count": 12,
   "id": "c1fec162-9828-4052-8d4f-bc69ff979fbc",
   "metadata": {},
   "outputs": [
    {
     "data": {
      "text/plain": [
       "['3ad8bcac-3b2d-4909-9fc2-7bb99bb7253c',\n",
       " 'f3884e0b-7d3c-437a-9ac2-e35a04bee4bc']"
      ]
     },
     "execution_count": 12,
     "metadata": {},
     "output_type": "execute_result"
    }
   ],
   "source": [
    "queued_job_ids"
   ]
  },
  {
   "cell_type": "code",
   "execution_count": null,
   "id": "934cf555-da48-466d-bd65-32703d461100",
   "metadata": {},
   "outputs": [],
   "source": []
  }
 ],
 "metadata": {
  "kernelspec": {
   "display_name": "Python 3 (ipykernel)",
   "language": "python",
   "name": "python3"
  },
  "language_info": {
   "codemirror_mode": {
    "name": "ipython",
    "version": 3
   },
   "file_extension": ".py",
   "mimetype": "text/x-python",
   "name": "python",
   "nbconvert_exporter": "python",
   "pygments_lexer": "ipython3",
   "version": "3.12.4"
  }
 },
 "nbformat": 4,
 "nbformat_minor": 5
}
