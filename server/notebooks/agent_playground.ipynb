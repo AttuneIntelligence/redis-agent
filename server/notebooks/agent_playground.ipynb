{
 "cells": [
  {
   "cell_type": "code",
   "execution_count": null,
   "id": "7203d5fb-795b-4b3d-81b5-51b93b078baf",
   "metadata": {},
   "outputs": [],
   "source": [
    "import sys\n",
    "import chromadb\n",
    "\n",
    "sys.path.append('/workspace/redis-agent/src')\n",
    "from my_agent import MyAgent"
   ]
  },
  {
   "cell_type": "code",
   "execution_count": null,
   "id": "51f7e7e5-4151-47ef-ab78-ad59afe78d2a",
   "metadata": {},
   "outputs": [],
   "source": [
    "### INITIALIZATION\n",
    "MyAgent = MyAgent()"
   ]
  },
  {
   "cell_type": "code",
   "execution_count": null,
   "id": "8ffb6e2c-64f2-4601-b2cb-97c2527a4a4c",
   "metadata": {},
   "outputs": [],
   "source": [
    "#######################\n",
    "### AGENT EXECUTION ###\n",
    "#######################\n",
    "\n",
    "input_json = {\n",
    "    \"user_id\": \"c93faa88-23ec-4fac-baa1-a3a583b2f2c4\",\n",
    "    \"display_name\": \"Reed\",\n",
    "    \"question\": \"What is your name?\"\n",
    "}\n",
    "agent_response, agent_metadata = MyAgent.execute(input_json)"
   ]
  },
  {
   "cell_type": "code",
   "execution_count": null,
   "id": "cf3b433b-9906-45f2-a8e5-7e5ac0749513",
   "metadata": {},
   "outputs": [],
   "source": [
    "agent_metadata"
   ]
  },
  {
   "cell_type": "code",
   "execution_count": null,
   "id": "468b41b1-506f-46e3-aa8e-13445312cf07",
   "metadata": {},
   "outputs": [],
   "source": [
    "agent_response[-1]['content']"
   ]
  },
  {
   "cell_type": "code",
   "execution_count": null,
   "id": "69c1b2a8-0db9-40e3-ab58-9351f8e4608e",
   "metadata": {},
   "outputs": [],
   "source": []
  },
  {
   "cell_type": "code",
   "execution_count": null,
   "id": "7072b631-0985-4ea8-9805-0e29694f238e",
   "metadata": {},
   "outputs": [],
   "source": []
  },
  {
   "cell_type": "code",
   "execution_count": null,
   "id": "8596a2e7-2363-4816-bf1e-0c862ad303cc",
   "metadata": {},
   "outputs": [],
   "source": []
  },
  {
   "cell_type": "code",
   "execution_count": null,
   "id": "d63af2b5-0e36-4c3a-83d5-94f58c05b0eb",
   "metadata": {},
   "outputs": [],
   "source": []
  },
  {
   "cell_type": "code",
   "execution_count": null,
   "id": "2b56bd59-64e9-4885-b458-9e29b8339721",
   "metadata": {},
   "outputs": [],
   "source": []
  },
  {
   "cell_type": "code",
   "execution_count": null,
   "id": "8fbcfe72-995f-4907-9d10-3b28741edd27",
   "metadata": {},
   "outputs": [],
   "source": []
  },
  {
   "cell_type": "code",
   "execution_count": null,
   "id": "d37e82e5-1b6a-4a83-ab49-1105d0769314",
   "metadata": {},
   "outputs": [],
   "source": []
  }
 ],
 "metadata": {
  "kernelspec": {
   "display_name": "Python 3 (ipykernel)",
   "language": "python",
   "name": "python3"
  },
  "language_info": {
   "codemirror_mode": {
    "name": "ipython",
    "version": 3
   },
   "file_extension": ".py",
   "mimetype": "text/x-python",
   "name": "python",
   "nbconvert_exporter": "python",
   "pygments_lexer": "ipython3",
   "version": "3.12.4"
  }
 },
 "nbformat": 4,
 "nbformat_minor": 5
}
