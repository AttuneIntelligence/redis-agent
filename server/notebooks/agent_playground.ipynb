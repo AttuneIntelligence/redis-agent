{
 "cells": [
  {
   "cell_type": "code",
   "execution_count": 1,
   "id": "7203d5fb-795b-4b3d-81b5-51b93b078baf",
   "metadata": {},
   "outputs": [],
   "source": [
    "import sys\n",
    "import chromadb\n",
    "\n",
    "sys.path.append('/workspace/redis-agent/src')\n",
    "from my_agent import MyAgent\n",
    "\n"
   ]
  },
  {
   "cell_type": "code",
   "execution_count": 2,
   "id": "51f7e7e5-4151-47ef-ab78-ad59afe78d2a",
   "metadata": {},
   "outputs": [
    {
     "name": "stdout",
     "output_type": "stream",
     "text": [
      "==> Toolkit vector db created in 0.6 seconds.\n"
     ]
    }
   ],
   "source": [
    "### INITIALIZATION\n",
    "MyAgent = MyAgent()"
   ]
  },
  {
   "cell_type": "code",
   "execution_count": 6,
   "id": "8ffb6e2c-64f2-4601-b2cb-97c2527a4a4c",
   "metadata": {},
   "outputs": [
    {
     "name": "stdout",
     "output_type": "stream",
     "text": [
      "==> Agent executed in 2 steps for $0.032 (11.2 seconds).\n"
     ]
    }
   ],
   "source": [
    "question = \"Who are some leading cancer resaerchers in the field of bioelectricity??\"\n",
    "agent_response, metadata = MyAgent.invoke_gpt_agent(question)\n"
   ]
  },
  {
   "cell_type": "code",
   "execution_count": 7,
   "id": "edea7c74-c363-4bc2-ab23-ab34c3aea012",
   "metadata": {},
   "outputs": [
    {
     "data": {
      "text/plain": [
       "{'time': 11.2,\n",
       " 'cost': 0.031905,\n",
       " 'n_steps': 2,\n",
       " 'functions_executed': [{'function': 'search_pubmed',\n",
       "   'query': 'leading cancer researchers bioelectricity'},\n",
       "  {'function': 'search_pubmed',\n",
       "   'query': 'pioneering researchers bioelectricity cancer'},\n",
       "  {'function': 'search_academic_scholars',\n",
       "   'query': 'prominent cancer researchers bioelectricity'},\n",
       "  {'function': 'search_academic_scholars',\n",
       "   'query': 'top researchers bioelectricity cancer'},\n",
       "  {'function': 'search_academic_scholars', 'query': 'Patrick McMillen'},\n",
       "  {'function': 'search_academic_scholars', 'query': 'Madeleine J Oudin'},\n",
       "  {'function': 'search_academic_scholars', 'query': 'Michael Levin'},\n",
       "  {'function': 'search_academic_scholars', 'query': 'Léo Pio-Lopez'},\n",
       "  {'function': 'search_academic_scholars', 'query': 'Alistair V W Nunn'},\n",
       "  {'function': 'search_academic_scholars', 'query': 'Geoffrey W Guy'},\n",
       "  {'function': 'search_academic_scholars', 'query': 'Jimmy D Bell'}]}"
      ]
     },
     "execution_count": 7,
     "metadata": {},
     "output_type": "execute_result"
    }
   ],
   "source": [
    "metadata"
   ]
  },
  {
   "cell_type": "code",
   "execution_count": 8,
   "id": "020ea7b9-3acf-43dc-8e23-3d2880774881",
   "metadata": {},
   "outputs": [
    {
     "data": {
      "text/plain": [
       "[{'title': 'Beyond Neurons: Long Distance Communication in Development and Cancer.',\n",
       "  'authors': ['Patrick McMillen',\n",
       "   'Madeleine J Oudin',\n",
       "   'Michael Levin',\n",
       "   'et. al.'],\n",
       "  'publication_date': '2021-10-09',\n",
       "  'description': 'Cellular communication is important in all aspects of tissue and organism functioning, from the level of single cells, two discreet populations, and distant tissues of the body. Long distance communication networks integrate individual cells into tissues to maintain a complex organism during development, but when communication between cells goes awry, disease states such as cancer emerge. Herein we discuss the growing body of evidence suggesting that communication methods known to be employed by neurons, also exist in other cell types. We identify three major areas of long-distance communication: bioelectric signaling, tunneling nanotubes (TNTs), and macrophage modulation of networks, and draw comparisons about how these systems operate in the context of development and cancer. Bioelectric signaling occurs between cells through exchange of ions and tissue-level electric fields, leading to changes in biochemical gradients and molecular signaling pathways to control normal development and tumor growth and invasion in cancer. TNTs transport key morphogens and other cargo long distances, mediating electrical coupling, tissue patterning, and malignancy of cancer cells. Lastly macrophages maintain long distance signaling networks through trafficking of vesicles during development, providing communication relays and priming favorable microenvironments for cancer metastasis. By drawing comparisons between non-neural long distance signaling in the context of development and cancer we aim to encourage crosstalk between the two fields to cultivate new hypotheses and potential therapeutic strategies.',\n",
       "  'link': '10.3389/fcell.2021.739024',\n",
       "  'source': 'Pubmed',\n",
       "  'similarity': 0.526061750597142},\n",
       " {'title': 'Aging as a loss of morphostatic information: A developmental bioelectricity perspective.',\n",
       "  'authors': ['Léo Pio-Lopez', 'Michael Levin'],\n",
       "  'publication_date': '2024-04-19',\n",
       "  'description': 'Maintaining order at the tissue level is crucial throughout the lifespan, as failure can lead to cancer and an accumulation of molecular and cellular disorders. Perhaps, the most consistent and pervasive result of these failures is aging, which is characterized by the progressive loss of function and decline in the ability to maintain anatomical homeostasis and reproduce. This leads to organ malfunction, diseases, and ultimately death. The traditional understanding of aging is that it is caused by the accumulation of molecular and cellular damage. In this article, we propose a complementary view of aging from the perspective of endogenous bioelectricity which has not yet been integrated into aging research. We propose a view of aging as a morphostasis defect, a loss of biophysical prepattern information, encoding anatomical setpoints used for dynamic tissue and organ homeostasis. We hypothesize that this is specifically driven by abrogation of the endogenous bioelectric signaling that normally harnesses individual cell behaviors toward the creation and upkeep of complex multicellular structures in vivo. Herein, we first describe bioelectricity as the physiological software of life, and then identify and discuss the links between bioelectricity and life extension strategies and age-related diseases. We develop a bridge between aging and regeneration via bioelectric signaling that suggests a research program for healthful longevity via morphoceuticals. Finally, we discuss the broader implications of the homologies between development, aging, cancer and regeneration and how morphoceuticals can be developed for aging.',\n",
       "  'link': '10.1016/j.arr.2024.102310',\n",
       "  'source': 'Pubmed',\n",
       "  'similarity': 0.4696276894137473},\n",
       " {'title': 'Bioelectric Fields at the Beginnings of Life.',\n",
       "  'authors': ['Alistair V W Nunn', 'Geoffrey W Guy', 'Jimmy D Bell'],\n",
       "  'publication_date': '2023-01-14',\n",
       "  'description': 'The consensus on the origins of life is that it involved organization of prebiotic chemicals according to the underlying principles of thermodynamics to dissipate energy derived from photochemical and/or geochemical sources. Leading theories tend to be chemistry-centric, revolving around either metabolism or information-containing polymers first. However, experimental data also suggest that bioelectricity and quantum effects play an important role in biology, which might suggest that a further factor is required to explain how life began. Intriguingly, in the early part of 20th century, the concept of the \"morphogenetic field\" was proposed by Gurwitsch to explain how the shape of an organism was determined, while a role for quantum mechanics in biology was suggested by Bohr and Schrdinger, among others. This raises the question as to the potential of these phenomena, especially bioelectric fields, to have been involved in the origin of life. It points to the possibility that as bioelectricity is universally prevalent in biological systems today, it represents a more complex echo of an electromagnetic skeleton which helped shape life into being. It could be argued that as a flow of ions creates an electric field, this could have been pivotal in the formation of an energy dissipating structure, for instance, in deep sea thermal vents. Moreover, a field theory might also hint at the potential involvement of nontrivial quantum effects in life. Not only might this perspective help indicate the origins of morphogenetic fields, but also perhaps suggest where life may have started, and whether metabolism or information came first. It might also help to provide an insight into aging, cancer, consciousness, and, perhaps, how we might identify life beyond our planet. In short, when thinking about life, not only do we have to consider the accepted chemistry, but also the fields that must also shape it. In effect, to fully understand life, as well as the yin of accepted particle-based chemistry, there is a yang of field-based interaction and an ethereal skeleton.',\n",
       "  'link': '10.1089/bioe.2022.0012',\n",
       "  'source': 'Pubmed',\n",
       "  'similarity': 0.45710742288888717},\n",
       " {'name': 'Alistair VW Nunn',\n",
       "  'affiliation': 'Professor of Quantum Bioenergetics, University of Westminster',\n",
       "  'n_cited_by': 2489,\n",
       "  'url': 'https://scholar.google.com/citations?user=kYBesf8AAAAJ&hl=en&num=3&oi=ao',\n",
       "  'scholar_id': 'kYBesf8AAAAJ',\n",
       "  'source': 'Google Scholar',\n",
       "  'similarity': 0.3847790770720697},\n",
       " {'name': 'Jimmy D Bell',\n",
       "  'affiliation': 'Professor Biochemistry and Human Metabolism',\n",
       "  'n_cited_by': 29553,\n",
       "  'url': 'https://scholar.google.com/citations?user=wZzK__EAAAAJ&hl=en&num=3&oi=ao',\n",
       "  'scholar_id': 'wZzK__EAAAAJ',\n",
       "  'source': 'Google Scholar',\n",
       "  'similarity': 0.3703720876271977},\n",
       " {'name': 'Madeleine J. Oudin',\n",
       "  'affiliation': 'Associate Professor of Biomedical Engineering, Tufts University',\n",
       "  'n_cited_by': 1870,\n",
       "  'url': 'https://scholar.google.com/citations?user=w7kkT5UAAAAJ&hl=en&num=3&oi=ao',\n",
       "  'scholar_id': 'w7kkT5UAAAAJ',\n",
       "  'source': 'Google Scholar',\n",
       "  'similarity': 0.32468756808307986},\n",
       " {'name': 'michael Levin',\n",
       "  'affiliation': '',\n",
       "  'n_cited_by': 47618,\n",
       "  'url': 'https://scholar.google.com/citations?user=w5mnpN4AAAAJ&hl=en&num=3&oi=ao',\n",
       "  'scholar_id': 'w5mnpN4AAAAJ',\n",
       "  'source': 'Google Scholar',\n",
       "  'similarity': 0.30466918746811084},\n",
       " {'name': 'Léo Pio-Lopez',\n",
       "  'affiliation': 'Allen Discovery Center, Tufts University, Medford, MA, USA',\n",
       "  'n_cited_by': 323,\n",
       "  'url': 'https://scholar.google.com/citations?user=ZWYB-GMAAAAJ&hl=en&num=3&oi=ao',\n",
       "  'scholar_id': 'ZWYB-GMAAAAJ',\n",
       "  'source': 'Google Scholar',\n",
       "  'similarity': 0.3002731971246698}]"
      ]
     },
     "execution_count": 8,
     "metadata": {},
     "output_type": "execute_result"
    }
   ],
   "source": [
    "agent_response"
   ]
  },
  {
   "cell_type": "code",
   "execution_count": null,
   "id": "5311439c-271a-43c7-a7a2-c99e1d0c5051",
   "metadata": {},
   "outputs": [],
   "source": []
  },
  {
   "cell_type": "code",
   "execution_count": null,
   "id": "cf3b433b-9906-45f2-a8e5-7e5ac0749513",
   "metadata": {},
   "outputs": [],
   "source": []
  },
  {
   "cell_type": "code",
   "execution_count": null,
   "id": "468b41b1-506f-46e3-aa8e-13445312cf07",
   "metadata": {},
   "outputs": [],
   "source": []
  },
  {
   "cell_type": "code",
   "execution_count": null,
   "id": "69c1b2a8-0db9-40e3-ab58-9351f8e4608e",
   "metadata": {},
   "outputs": [],
   "source": []
  },
  {
   "cell_type": "code",
   "execution_count": null,
   "id": "7072b631-0985-4ea8-9805-0e29694f238e",
   "metadata": {},
   "outputs": [],
   "source": []
  },
  {
   "cell_type": "code",
   "execution_count": null,
   "id": "8596a2e7-2363-4816-bf1e-0c862ad303cc",
   "metadata": {},
   "outputs": [],
   "source": []
  },
  {
   "cell_type": "code",
   "execution_count": null,
   "id": "d63af2b5-0e36-4c3a-83d5-94f58c05b0eb",
   "metadata": {},
   "outputs": [],
   "source": []
  },
  {
   "cell_type": "code",
   "execution_count": null,
   "id": "2b56bd59-64e9-4885-b458-9e29b8339721",
   "metadata": {},
   "outputs": [],
   "source": []
  },
  {
   "cell_type": "code",
   "execution_count": null,
   "id": "8fbcfe72-995f-4907-9d10-3b28741edd27",
   "metadata": {},
   "outputs": [],
   "source": []
  },
  {
   "cell_type": "code",
   "execution_count": null,
   "id": "d37e82e5-1b6a-4a83-ab49-1105d0769314",
   "metadata": {},
   "outputs": [],
   "source": []
  }
 ],
 "metadata": {
  "kernelspec": {
   "display_name": "Python 3 (ipykernel)",
   "language": "python",
   "name": "python3"
  },
  "language_info": {
   "codemirror_mode": {
    "name": "ipython",
    "version": 3
   },
   "file_extension": ".py",
   "mimetype": "text/x-python",
   "name": "python",
   "nbconvert_exporter": "python",
   "pygments_lexer": "ipython3",
   "version": "3.12.4"
  }
 },
 "nbformat": 4,
 "nbformat_minor": 5
}
