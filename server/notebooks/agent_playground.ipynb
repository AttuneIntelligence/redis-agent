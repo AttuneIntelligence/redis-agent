{
 "cells": [
  {
   "cell_type": "code",
   "execution_count": 1,
   "id": "7203d5fb-795b-4b3d-81b5-51b93b078baf",
   "metadata": {},
   "outputs": [],
   "source": [
    "import sys\n",
    "\n",
    "sys.path.append('/workspace/redis-agent/src')\n",
    "from my_agent import MyAgent\n"
   ]
  },
  {
   "cell_type": "code",
   "execution_count": 2,
   "id": "51f7e7e5-4151-47ef-ab78-ad59afe78d2a",
   "metadata": {},
   "outputs": [],
   "source": [
    "### INITIALIZATION\n",
    "MyAgent = MyAgent()"
   ]
  },
  {
   "cell_type": "code",
   "execution_count": 3,
   "id": "593e2177-4ba5-4670-bef8-6c33481c6228",
   "metadata": {},
   "outputs": [],
   "source": [
    "query_list = [\n",
    "    {\n",
    "        'name': 'search_arXiv',\n",
    "        'arguments': {\n",
    "            'query': 'Non-linear chaotic modeling'\n",
    "        }\n",
    "    },\n",
    "    {\n",
    "        'name': 'search_pubmed',\n",
    "        'arguments': {\n",
    "            'query': 'Cancer interventions with meditation'\n",
    "        }\n",
    "    },\n",
    "    {\n",
    "        'name': 'search_clinical_trials',\n",
    "        'arguments': {\n",
    "            'query': 'dimethyltryptamine'\n",
    "        }\n",
    "    }\n",
    "]"
   ]
  },
  {
   "cell_type": "code",
   "execution_count": 5,
   "id": "d085bdb6-f17d-4055-9852-bad29533da2f",
   "metadata": {},
   "outputs": [
    {
     "name": "stdout",
     "output_type": "stream",
     "text": [
      "Agent execution complete in 2.0 seconds.\n"
     ]
    }
   ],
   "source": [
    "response = MyAgent.Agent_Queue.queue_function_calls(query_list)"
   ]
  },
  {
   "cell_type": "code",
   "execution_count": 7,
   "id": "06689cbf-c5a7-44b7-b6eb-dc45df12e4a2",
   "metadata": {},
   "outputs": [
    {
     "data": {
      "text/plain": [
       "3"
      ]
     },
     "execution_count": 7,
     "metadata": {},
     "output_type": "execute_result"
    }
   ],
   "source": [
    "len(response)"
   ]
  },
  {
   "cell_type": "code",
   "execution_count": null,
   "id": "d88ee3ed-a486-44b3-bef0-eaa307736253",
   "metadata": {},
   "outputs": [],
   "source": []
  },
  {
   "cell_type": "code",
   "execution_count": null,
   "id": "980f1360-7ce5-4da3-b373-b82287543923",
   "metadata": {},
   "outputs": [],
   "source": []
  },
  {
   "cell_type": "code",
   "execution_count": null,
   "id": "b6c8f88f-4fdd-4f4d-9eaf-f74582d95ac1",
   "metadata": {},
   "outputs": [],
   "source": []
  },
  {
   "cell_type": "code",
   "execution_count": null,
   "id": "a20d8b2f-e9da-4927-bca4-d3b4c8b4a4c7",
   "metadata": {},
   "outputs": [],
   "source": []
  },
  {
   "cell_type": "code",
   "execution_count": null,
   "id": "54eedec3-a659-40cd-96b6-fd98dc0d8445",
   "metadata": {},
   "outputs": [],
   "source": []
  },
  {
   "cell_type": "code",
   "execution_count": 5,
   "id": "1623ceee-c177-46bf-afb2-a7a31cd0e42e",
   "metadata": {},
   "outputs": [
    {
     "data": {
      "text/plain": [
       "[{'Dynamics of Cities': {'description': 'This study investigates city dynamics employing a nonextensive diffusion equation suited for addressing diffusion within a fractal medium, where the nonadditive parameter, $q$, plays a relevant role. The findings demonstrate the efficacy of this approach in determining the relation between the fractal dimension of the city, the allometric exponent and $q$, and elucidating the stationary phase of urban evolution. The dynamic methodology facilitates the correlation of the fractal dimension with both the entropic index and the urban scaling exponent identified in data analyses. The results reveal that the scaling behaviour observed in cities aligns with the fractal dimension measured through independent methods. Moreover, the interpretation of these findings underscores the intimate connection between the fractal dimension and social interactions within the urban context. This research contributes to a deeper comprehension of the intricate interplay between human behaviour, urban dynamics, and the underlying fractal nature of cities.',\n",
       "   'publication_date': '2024-07-17',\n",
       "   'authors': ['A. Deppman',\n",
       "    'R. L. Fagundes',\n",
       "    'E. Megias',\n",
       "    'R. Pasechnik',\n",
       "    'F. L. Ribeiro',\n",
       "    'C. Tsallis'],\n",
       "   'link': 'http://arxiv.org/pdf/2407.12681v1'}},\n",
       " {'Global bifurcations organizing weak chimeras in three symmetrically coupled Kuramoto oscillators with inertia': {'description': 'Frequency desynchronized attractors cannot appear in identically coupled symmetric phase oscillators because \"overtaking\" of phases cannot occur. This restriction no longer applies for more general identically coupled oscillators. Hence, it is interesting to understand precisely how frequency synchrony is lost and how invariant sets such as attracting weak chimeras are generated at torus breakup, where the phase description breaks down. Maistrenko et al (2016) found numerical evidence of an organizing center for weak chimeras in a system of $N=3$ coupled identical Kuramoto oscillators with inertia. This paper identifies this organizing center and shows that it corresponds to a particular type of non-transverse heteroclinic bifurcation that is generic in the context of symmetry. At this codimension two bifurcation there is a splitting of connecting orbits between the in-phase (fully synchronized) state. This generates a wide variety of associated bifurcations to weak chimeras. We further highlight a second organizing center associated with a codimension two symmetry-breaking heteroclinic connection.',\n",
       "   'publication_date': '2024-07-17',\n",
       "   'authors': ['Peter Ashwin', 'Christian Bick'],\n",
       "   'link': 'http://arxiv.org/pdf/2407.12524v1'}}]"
      ]
     },
     "execution_count": 5,
     "metadata": {},
     "output_type": "execute_result"
    }
   ],
   "source": [
    "MyAgent.Toolkit.execute_function_call({'name': 'search_arXiv', 'arguments': {'query': 'Non-linear chaotic modelin'}}, MyAgent.Toolkit.all_tools)"
   ]
  },
  {
   "cell_type": "code",
   "execution_count": null,
   "id": "900b445a-8370-424e-a0d2-7f104331fe6f",
   "metadata": {},
   "outputs": [],
   "source": []
  },
  {
   "cell_type": "code",
   "execution_count": null,
   "id": "526377e3-539f-481d-a0d5-ec722439e10c",
   "metadata": {},
   "outputs": [],
   "source": []
  },
  {
   "cell_type": "code",
   "execution_count": 10,
   "id": "35583d8b-7bd6-4fd2-a069-d12927e713c9",
   "metadata": {},
   "outputs": [],
   "source": [
    "from rq import Queue, get_current_job\n",
    "from rq.registry import StartedJobRegistry\n",
    "from rq import Queue, Worker\n",
    "\n",
    "redis_conn = redis.Redis(host='redis', port=6379)\n",
    "# get_current_job(connection=redis_conn)\n",
    "registry = StartedJobRegistry('default', connection=redis_conn)\n",
    "expired_job_ids = registry.get_expired_job_ids() \n",
    "running_job_ids = registry.get_job_ids()  # Jobs which are exactly running. \n",
    "workers = Worker.all(connection=redis_conn)\n",
    "queued_job_ids = registry.get_queue().job_ids"
   ]
  },
  {
   "cell_type": "code",
   "execution_count": 11,
   "id": "3c98bfad-4bad-4661-883e-c6616e097009",
   "metadata": {},
   "outputs": [
    {
     "data": {
      "text/plain": [
       "['cbb13d03-c6d7-487d-a16d-c92201083d6f',\n",
       " '5bf46cbc-45de-431c-827c-c63d2c85f3a7',\n",
       " 'ade4c665-c9b8-4fae-89bd-02c18602dcc0',\n",
       " 'ae310254-5714-404b-8e39-c934fc45c6e9']"
      ]
     },
     "execution_count": 11,
     "metadata": {},
     "output_type": "execute_result"
    }
   ],
   "source": [
    "running_job_ids\n"
   ]
  },
  {
   "cell_type": "code",
   "execution_count": 12,
   "id": "c1fec162-9828-4052-8d4f-bc69ff979fbc",
   "metadata": {},
   "outputs": [
    {
     "data": {
      "text/plain": [
       "['3ad8bcac-3b2d-4909-9fc2-7bb99bb7253c',\n",
       " 'f3884e0b-7d3c-437a-9ac2-e35a04bee4bc']"
      ]
     },
     "execution_count": 12,
     "metadata": {},
     "output_type": "execute_result"
    }
   ],
   "source": [
    "queued_job_ids"
   ]
  },
  {
   "cell_type": "code",
   "execution_count": null,
   "id": "934cf555-da48-466d-bd65-32703d461100",
   "metadata": {},
   "outputs": [],
   "source": []
  }
 ],
 "metadata": {
  "kernelspec": {
   "display_name": "Python 3 (ipykernel)",
   "language": "python",
   "name": "python3"
  },
  "language_info": {
   "codemirror_mode": {
    "name": "ipython",
    "version": 3
   },
   "file_extension": ".py",
   "mimetype": "text/x-python",
   "name": "python",
   "nbconvert_exporter": "python",
   "pygments_lexer": "ipython3",
   "version": "3.12.4"
  }
 },
 "nbformat": 4,
 "nbformat_minor": 5
}
